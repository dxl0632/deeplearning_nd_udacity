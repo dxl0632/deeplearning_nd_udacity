{
 "cells": [
  {
   "cell_type": "markdown",
   "metadata": {},
   "source": [
    "# TV Script Generation\n",
    "In this project, you'll generate your own [Simpsons](https://en.wikipedia.org/wiki/The_Simpsons) TV scripts using RNNs.  You'll be using part of the [Simpsons dataset](https://www.kaggle.com/wcukierski/the-simpsons-by-the-data) of scripts from 27 seasons.  The Neural Network you'll build will generate a new TV script for a scene at [Moe's Tavern](https://simpsonswiki.com/wiki/Moe's_Tavern).\n",
    "## Get the Data\n",
    "The data is already provided for you.  You'll be using a subset of the original dataset.  It consists of only the scenes in Moe's Tavern.  This doesn't include other versions of the tavern, like \"Moe's Cavern\", \"Flaming Moe's\", \"Uncle Moe's Family Feed-Bag\", etc.."
   ]
  },
  {
   "cell_type": "code",
   "execution_count": 1,
   "metadata": {
    "collapsed": true
   },
   "outputs": [],
   "source": [
    "\"\"\"\n",
    "DON'T MODIFY ANYTHING IN THIS CELL\n",
    "\"\"\"\n",
    "import helper\n",
    "\n",
    "data_dir = './data/simpsons/moes_tavern_lines.txt'\n",
    "text = helper.load_data(data_dir)\n",
    "# Ignore notice, since we don't use it for analysing the data\n",
    "text = text[81:]"
   ]
  },
  {
   "cell_type": "markdown",
   "metadata": {},
   "source": [
    "## Explore the Data\n",
    "Play around with `view_sentence_range` to view different parts of the data."
   ]
  },
  {
   "cell_type": "code",
   "execution_count": 2,
   "metadata": {
    "collapsed": false
   },
   "outputs": [
    {
     "name": "stdout",
     "output_type": "stream",
     "text": [
      "Dataset Stats\n",
      "Roughly the number of unique words: 11492\n",
      "Number of scenes: 262\n",
      "Average number of sentences in each scene: 15.248091603053435\n",
      "Number of lines: 4257\n",
      "Average number of words in each line: 11.50434578341555\n",
      "\n",
      "The sentences 0 to 10:\n",
      "Moe_Szyslak: (INTO PHONE) Moe's Tavern. Where the elite meet to drink.\n",
      "Bart_Simpson: Eh, yeah, hello, is Mike there? Last name, Rotch.\n",
      "Moe_Szyslak: (INTO PHONE) Hold on, I'll check. (TO BARFLIES) Mike Rotch. Mike Rotch. Hey, has anybody seen Mike Rotch, lately?\n",
      "Moe_Szyslak: (INTO PHONE) Listen you little puke. One of these days I'm gonna catch you, and I'm gonna carve my name on your back with an ice pick.\n",
      "Moe_Szyslak: What's the matter Homer? You're not your normal effervescent self.\n",
      "Homer_Simpson: I got my problems, Moe. Give me another one.\n",
      "Moe_Szyslak: Homer, hey, you should not drink to forget your problems.\n",
      "Barney_Gumble: Yeah, you should only drink to enhance your social skills.\n",
      "\n",
      "\n"
     ]
    }
   ],
   "source": [
    "view_sentence_range = (0, 10)\n",
    "\n",
    "\"\"\"\n",
    "DON'T MODIFY ANYTHING IN THIS CELL\n",
    "\"\"\"\n",
    "import numpy as np\n",
    "\n",
    "print('Dataset Stats')\n",
    "print('Roughly the number of unique words: {}'.format(len({word: None for word in text.split()})))\n",
    "scenes = text.split('\\n\\n')\n",
    "print('Number of scenes: {}'.format(len(scenes)))\n",
    "sentence_count_scene = [scene.count('\\n') for scene in scenes]\n",
    "print('Average number of sentences in each scene: {}'.format(np.average(sentence_count_scene)))\n",
    "\n",
    "sentences = [sentence for scene in scenes for sentence in scene.split('\\n')]\n",
    "print('Number of lines: {}'.format(len(sentences)))\n",
    "word_count_sentence = [len(sentence.split()) for sentence in sentences]\n",
    "print('Average number of words in each line: {}'.format(np.average(word_count_sentence)))\n",
    "\n",
    "print()\n",
    "print('The sentences {} to {}:'.format(*view_sentence_range))\n",
    "print('\\n'.join(text.split('\\n')[view_sentence_range[0]:view_sentence_range[1]]))"
   ]
  },
  {
   "cell_type": "markdown",
   "metadata": {},
   "source": [
    "## Implement Preprocessing Functions\n",
    "The first thing to do to any dataset is preprocessing.  Implement the following preprocessing functions below:\n",
    "- Lookup Table\n",
    "- Tokenize Punctuation\n",
    "\n",
    "### Lookup Table\n",
    "To create a word embedding, you first need to transform the words to ids.  In this function, create two dictionaries:\n",
    "- Dictionary to go from the words to an id, we'll call `vocab_to_int`\n",
    "- Dictionary to go from the id to word, we'll call `int_to_vocab`\n",
    "\n",
    "Return these dictionaries in the following tuple `(vocab_to_int, int_to_vocab)`"
   ]
  },
  {
   "cell_type": "code",
   "execution_count": 138,
   "metadata": {
    "collapsed": false
   },
   "outputs": [
    {
     "name": "stdout",
     "output_type": "stream",
     "text": [
      "Tests Passed\n"
     ]
    }
   ],
   "source": [
    "import numpy as np\n",
    "import problem_unittests as tests\n",
    "from collections import Counter\n",
    "\n",
    "def create_lookup_tables(text):\n",
    "    \"\"\"\n",
    "    Create lookup tables for vocabulary\n",
    "    :param text: The text of tv scripts split into words\n",
    "    :return: A tuple of dicts (vocab_to_int, int_to_vocab)\n",
    "    \"\"\"\n",
    "    # TODO: Implement Function\n",
    "    vocab = set(text)\n",
    "    vocab_to_int = {word: index for index, word in enumerate(vocab)}\n",
    "    int_to_vocab = dict(enumerate(vocab))\n",
    "    return vocab_to_int, int_to_vocab\n",
    "\n",
    "\n",
    "\"\"\"\n",
    "DON'T MODIFY ANYTHING IN THIS CELL THAT IS BELOW THIS LINE\n",
    "\"\"\"\n",
    "tests.test_create_lookup_tables(create_lookup_tables)"
   ]
  },
  {
   "cell_type": "markdown",
   "metadata": {},
   "source": [
    "### Tokenize Punctuation\n",
    "We'll be splitting the script into a word array using spaces as delimiters.  However, punctuations like periods and exclamation marks make it hard for the neural network to distinguish between the word \"bye\" and \"bye!\".\n",
    "\n",
    "Implement the function `token_lookup` to return a dict that will be used to tokenize symbols like \"!\" into \"||Exclamation_Mark||\".  Create a dictionary for the following symbols where the symbol is the key and value is the token:\n",
    "- Period ( . )\n",
    "- Comma ( , )\n",
    "- Quotation Mark ( \" )\n",
    "- Semicolon ( ; )\n",
    "- Exclamation mark ( ! )\n",
    "- Question mark ( ? )\n",
    "- Left Parentheses ( ( )\n",
    "- Right Parentheses ( ) )\n",
    "- Dash ( -- )\n",
    "- Return ( \\n )\n",
    "\n",
    "This dictionary will be used to token the symbols and add the delimiter (space) around it.  This separates the symbols as it's own word, making it easier for the neural network to predict on the next word. Make sure you don't use a token that could be confused as a word. Instead of using the token \"dash\", try using something like \"||dash||\"."
   ]
  },
  {
   "cell_type": "code",
   "execution_count": 139,
   "metadata": {
    "collapsed": false
   },
   "outputs": [
    {
     "name": "stdout",
     "output_type": "stream",
     "text": [
      "Tests Passed\n"
     ]
    }
   ],
   "source": [
    "def token_lookup():\n",
    "    \"\"\"\n",
    "    Generate a dict to turn punctuation into a token.\n",
    "    :return: Tokenize dictionary where the key is the punctuation and the value is the token\n",
    "    \"\"\"\n",
    "    # TODO: Implement Function\n",
    "    rs = {\".\": \"||period||\",\n",
    "          \",\": \"||comma||\",\n",
    "          '\"': \"||quotation||\",\n",
    "          \";\": \"||semicolon||\",\n",
    "          \"!\": \"||exclamation||\",\n",
    "          \"?\": \"||question||\",\n",
    "          \"(\": \"||left_p||\",\n",
    "          \")\": \"||right_p||\",\n",
    "          \"--\": \"||dash||\",\n",
    "          \"\\n\": \"||return||\"\n",
    "         }\n",
    "    return rs\n",
    "\n",
    "\"\"\"\n",
    "DON'T MODIFY ANYTHING IN THIS CELL THAT IS BELOW THIS LINE\n",
    "\"\"\"\n",
    "tests.test_tokenize(token_lookup)"
   ]
  },
  {
   "cell_type": "markdown",
   "metadata": {},
   "source": [
    "## Preprocess all the data and save it\n",
    "Running the code cell below will preprocess all the data and save it to file."
   ]
  },
  {
   "cell_type": "code",
   "execution_count": 140,
   "metadata": {
    "collapsed": true
   },
   "outputs": [],
   "source": [
    "\"\"\"\n",
    "DON'T MODIFY ANYTHING IN THIS CELL\n",
    "\"\"\"\n",
    "# Preprocess Training, Validation, and Testing Data\n",
    "helper.preprocess_and_save_data(data_dir, token_lookup, create_lookup_tables)"
   ]
  },
  {
   "cell_type": "markdown",
   "metadata": {},
   "source": [
    "# Check Point\n",
    "This is your first checkpoint. If you ever decide to come back to this notebook or have to restart the notebook, you can start from here. The preprocessed data has been saved to disk."
   ]
  },
  {
   "cell_type": "code",
   "execution_count": 141,
   "metadata": {
    "collapsed": true
   },
   "outputs": [],
   "source": [
    "\"\"\"\n",
    "DON'T MODIFY ANYTHING IN THIS CELL\n",
    "\"\"\"\n",
    "import helper\n",
    "import numpy as np\n",
    "import problem_unittests as tests\n",
    "\n",
    "int_text, vocab_to_int, int_to_vocab, token_dict = helper.load_preprocess()"
   ]
  },
  {
   "cell_type": "markdown",
   "metadata": {},
   "source": [
    "## Build the Neural Network\n",
    "You'll build the components necessary to build a RNN by implementing the following functions below:\n",
    "- get_inputs\n",
    "- get_init_cell\n",
    "- get_embed\n",
    "- build_rnn\n",
    "- build_nn\n",
    "- get_batches\n",
    "\n",
    "### Check the Version of TensorFlow and Access to GPU"
   ]
  },
  {
   "cell_type": "code",
   "execution_count": 142,
   "metadata": {
    "collapsed": false
   },
   "outputs": [
    {
     "name": "stdout",
     "output_type": "stream",
     "text": [
      "TensorFlow Version: 1.1.0\n",
      "Default GPU Device: /gpu:0\n"
     ]
    }
   ],
   "source": [
    "\"\"\"\n",
    "DON'T MODIFY ANYTHING IN THIS CELL\n",
    "\"\"\"\n",
    "from distutils.version import LooseVersion\n",
    "import warnings\n",
    "import tensorflow as tf\n",
    "\n",
    "# Check TensorFlow Version\n",
    "assert LooseVersion(tf.__version__) >= LooseVersion('1.0'), 'Please use TensorFlow version 1.0 or newer'\n",
    "print('TensorFlow Version: {}'.format(tf.__version__))\n",
    "\n",
    "# Check for a GPU\n",
    "if not tf.test.gpu_device_name():\n",
    "    warnings.warn('No GPU found. Please use a GPU to train your neural network.')\n",
    "else:\n",
    "    print('Default GPU Device: {}'.format(tf.test.gpu_device_name()))"
   ]
  },
  {
   "cell_type": "markdown",
   "metadata": {},
   "source": [
    "### Input\n",
    "Implement the `get_inputs()` function to create TF Placeholders for the Neural Network.  It should create the following placeholders:\n",
    "- Input text placeholder named \"input\" using the [TF Placeholder](https://www.tensorflow.org/api_docs/python/tf/placeholder) `name` parameter.\n",
    "- Targets placeholder\n",
    "- Learning Rate placeholder\n",
    "\n",
    "Return the placeholders in the following tuple `(Input, Targets, LearningRate)`"
   ]
  },
  {
   "cell_type": "code",
   "execution_count": 143,
   "metadata": {
    "collapsed": false
   },
   "outputs": [
    {
     "name": "stdout",
     "output_type": "stream",
     "text": [
      "Tests Passed\n"
     ]
    }
   ],
   "source": [
    "def get_inputs():\n",
    "    \"\"\"\n",
    "    Create TF Placeholders for input, targets, and learning rate.\n",
    "    :return: Tuple (input, targets, learning rate)\n",
    "    \"\"\"\n",
    "    # TODO: Implement Function\n",
    "    inputs = tf.placeholder(tf.int32, [None, None], name='input')\n",
    "    targets = tf.placeholder(tf.int32, [None, None], name='targets')\n",
    "    learing_rate = tf.placeholder(tf.float32, name='learing_rate')\n",
    "    return inputs, targets, learing_rate\n",
    "\n",
    "\n",
    "\"\"\"\n",
    "DON'T MODIFY ANYTHING IN THIS CELL THAT IS BELOW THIS LINE\n",
    "\"\"\"\n",
    "tests.test_get_inputs(get_inputs)"
   ]
  },
  {
   "cell_type": "markdown",
   "metadata": {},
   "source": [
    "### Build RNN Cell and Initialize\n",
    "Stack one or more [`BasicLSTMCells`](https://www.tensorflow.org/api_docs/python/tf/contrib/rnn/BasicLSTMCell) in a [`MultiRNNCell`](https://www.tensorflow.org/api_docs/python/tf/contrib/rnn/MultiRNNCell).\n",
    "- The Rnn size should be set using `rnn_size`\n",
    "- Initalize Cell State using the MultiRNNCell's [`zero_state()`](https://www.tensorflow.org/api_docs/python/tf/contrib/rnn/MultiRNNCell#zero_state) function\n",
    "    - Apply the name \"initial_state\" to the initial state using [`tf.identity()`](https://www.tensorflow.org/api_docs/python/tf/identity)\n",
    "\n",
    "Return the cell and initial state in the following tuple `(Cell, InitialState)`"
   ]
  },
  {
   "cell_type": "code",
   "execution_count": 144,
   "metadata": {
    "collapsed": false
   },
   "outputs": [
    {
     "name": "stdout",
     "output_type": "stream",
     "text": [
      "Tests Passed\n"
     ]
    }
   ],
   "source": [
    "def lstm_cell(lstm_size, keep_prob):\n",
    "    cell = tf.contrib.rnn.BasicLSTMCell(lstm_size, reuse=tf.get_variable_scope().reuse)\n",
    "    return tf.contrib.rnn.DropoutWrapper(cell, output_keep_prob=keep_prob)\n",
    "\n",
    "def get_init_cell(batch_size, rnn_size, num_layers=3, keep_prob=0.5):\n",
    "    \"\"\"\n",
    "    Create an RNN Cell and initialize it.\n",
    "    :param batch_size: Size of batches\n",
    "    :param rnn_size: Size of RNNs\n",
    "    :return: Tuple (cell, initialize state)\n",
    "    # no dropoputs?\n",
    "    \"\"\"\n",
    "    # TODO: Implement Function\n",
    "    # Stack up multiple LSTM layers, for deep learning\n",
    "    cell = tf.contrib.rnn.MultiRNNCell([lstm_cell(rnn_size, keep_prob) for _ in range(num_layers)], state_is_tuple=True)\n",
    "    initial_state = cell.zero_state(batch_size, tf.float32)\n",
    "    initial_state = tf.identity(initial_state, 'initial_state')\n",
    "    \n",
    "    return cell, initial_state\n",
    "\n",
    "\n",
    "\"\"\"\n",
    "DON'T MODIFY ANYTHING IN THIS CELL THAT IS BELOW THIS LINE\n",
    "\"\"\"\n",
    "tests.test_get_init_cell(get_init_cell)"
   ]
  },
  {
   "cell_type": "markdown",
   "metadata": {},
   "source": [
    "### Word Embedding\n",
    "Apply embedding to `input_data` using TensorFlow.  Return the embedded sequence."
   ]
  },
  {
   "cell_type": "code",
   "execution_count": 145,
   "metadata": {
    "collapsed": false
   },
   "outputs": [
    {
     "name": "stdout",
     "output_type": "stream",
     "text": [
      "Tests Passed\n"
     ]
    }
   ],
   "source": [
    "def get_embed(input_data, vocab_size, embed_dim):\n",
    "    \"\"\"\n",
    "    Create embedding for <input_data>.\n",
    "    :param input_data: TF placeholder for text input.\n",
    "    :param vocab_size: Number of words in vocabulary.\n",
    "    :param embed_dim: Number of embedding dimensions\n",
    "    :return: Embedded input.\n",
    "    \"\"\"\n",
    "    # TODO: Implement Function\n",
    "    # init embedding matrix\n",
    "    # embedding = tf.Variable(tf.random_uniform([vocab_size, embed_dim], minval=-1, maxval=1))\n",
    "    # embed = tf.nn.embedding_lookup(embedding, input_data)\n",
    "    return tf.contrib.layers.embed_sequence(input_data, vocab_size, embed_dim)\n",
    "\n",
    "\n",
    "\"\"\"\n",
    "DON'T MODIFY ANYTHING IN THIS CELL THAT IS BELOW THIS LINE\n",
    "\"\"\"\n",
    "tests.test_get_embed(get_embed)"
   ]
  },
  {
   "cell_type": "markdown",
   "metadata": {},
   "source": [
    "### Build RNN\n",
    "You created a RNN Cell in the `get_init_cell()` function.  Time to use the cell to create a RNN.\n",
    "- Build the RNN using the [`tf.nn.dynamic_rnn()`](https://www.tensorflow.org/api_docs/python/tf/nn/dynamic_rnn)\n",
    " - Apply the name \"final_state\" to the final state using [`tf.identity()`](https://www.tensorflow.org/api_docs/python/tf/identity)\n",
    "\n",
    "Return the outputs and final_state state in the following tuple `(Outputs, FinalState)` "
   ]
  },
  {
   "cell_type": "code",
   "execution_count": 146,
   "metadata": {
    "collapsed": false
   },
   "outputs": [
    {
     "name": "stdout",
     "output_type": "stream",
     "text": [
      "Tests Passed\n"
     ]
    }
   ],
   "source": [
    "def build_rnn(cell, inputs):\n",
    "    \"\"\"\n",
    "    Create a RNN using a RNN Cell\n",
    "    :param cell: RNN Cell\n",
    "    :param inputs: Input text data\n",
    "    :return: Tuple (Outputs, Final State)\n",
    "    \"\"\"\n",
    "    # TODO: Implement Function\n",
    "    outputs, state = tf.nn.dynamic_rnn(cell, inputs, dtype=tf.float32)\n",
    "    state = tf.identity(state, name='final_state')\n",
    "    return outputs, state\n",
    "\n",
    "\n",
    "\"\"\"\n",
    "DON'T MODIFY ANYTHING IN THIS CELL THAT IS BELOW THIS LINE\n",
    "\"\"\"\n",
    "tests.test_build_rnn(build_rnn)"
   ]
  },
  {
   "cell_type": "markdown",
   "metadata": {},
   "source": [
    "### Build the Neural Network\n",
    "Apply the functions you implemented above to:\n",
    "- Apply embedding to `input_data` using your `get_embed(input_data, vocab_size, embed_dim)` function.\n",
    "- Build RNN using `cell` and your `build_rnn(cell, inputs)` function.\n",
    "- Apply a fully connected layer with a linear activation and `vocab_size` as the number of outputs.\n",
    "\n",
    "Return the logits and final state in the following tuple (Logits, FinalState) "
   ]
  },
  {
   "cell_type": "code",
   "execution_count": 147,
   "metadata": {
    "collapsed": false
   },
   "outputs": [
    {
     "name": "stdout",
     "output_type": "stream",
     "text": [
      "Tests Passed\n"
     ]
    }
   ],
   "source": [
    "def build_nn(cell, rnn_size, input_data, vocab_size, embed_dim):\n",
    "    \"\"\"\n",
    "    Build part of the neural network\n",
    "    :param cell: RNN cell\n",
    "    :param rnn_size: Size of rnns\n",
    "    :param input_data: Input data\n",
    "    :param vocab_size: Vocabulary size\n",
    "    :param embed_dim: Number of embedding dimensions\n",
    "    :return: Tuple (Logits, FinalState)\n",
    "    \"\"\"\n",
    "    # TODO: Implement Function\n",
    "    embeded = get_embed(input_data, vocab_size, embed_dim)\n",
    "    outputs, state = build_rnn(cell, embeded)\n",
    "    wt_init = tf.truncated_normal_initializer(mean=0, stddev=0.1)\n",
    "    bias_init = tf.zeros_initializer()\n",
    "\n",
    "    logits = tf.contrib.layers.fully_connected(outputs,\n",
    "                                                    vocab_size,\n",
    "                                                    activation_fn=None,\n",
    "                                                    weights_initializer=wt_init,\n",
    "                                                    biases_initializer=bias_init)\n",
    "    return logits, state\n",
    "    \n",
    "\"\"\"\n",
    "DON'T MODIFY ANYTHING IN THIS CELL THAT IS BELOW THIS LINE\n",
    "\"\"\"\n",
    "tests.test_build_nn(build_nn)"
   ]
  },
  {
   "cell_type": "markdown",
   "metadata": {},
   "source": [
    "### Batches\n",
    "Implement `get_batches` to create batches of input and targets using `int_text`.  The batches should be a Numpy array with the shape `(number of batches, 2, batch size, sequence length)`. Each batch contains two elements:\n",
    "- The first element is a single batch of **input** with the shape `[batch size, sequence length]`\n",
    "- The second element is a single batch of **targets** with the shape `[batch size, sequence length]`\n",
    "\n",
    "If you can't fill the last batch with enough data, drop the last batch.\n",
    "\n",
    "For exmple, `get_batches([1, 2, 3, 4, 5, 6, 7, 8, 9, 10, 11, 12, 13, 14, 15, 16, 17, 18, 19, 20], 3, 2)` would return a Numpy array of the following:\n",
    "```\n",
    "[\n",
    "  # First Batch\n",
    "  [\n",
    "    # Batch of Input\n",
    "    [[ 1  2], [ 7  8], [13 14]]\n",
    "    # Batch of targets\n",
    "    [[ 2  3], [ 8  9], [14 15]]\n",
    "  ]\n",
    "\n",
    "  # Second Batch\n",
    "  [\n",
    "    # Batch of Input\n",
    "    [[ 3  4], [ 9 10], [15 16]]\n",
    "    # Batch of targets\n",
    "    [[ 4  5], [10 11], [16 17]]\n",
    "  ]\n",
    "\n",
    "  # Third Batch\n",
    "  [\n",
    "    # Batch of Input\n",
    "    [[ 5  6], [11 12], [17 18]]\n",
    "    # Batch of targets\n",
    "    [[ 6  7], [12 13], [18  1]]\n",
    "  ]\n",
    "]\n",
    "```\n",
    "\n",
    "Notice that the last target value in the last batch is the first input value of the first batch. In this case, `1`. This is a common technique used when creating sequence batches, although it is rather unintuitive."
   ]
  },
  {
   "cell_type": "code",
   "execution_count": 148,
   "metadata": {
    "collapsed": false
   },
   "outputs": [
    {
     "name": "stdout",
     "output_type": "stream",
     "text": [
      "Tests Passed\n"
     ]
    }
   ],
   "source": [
    "def get_batches(int_text, batch_size, seq_length):\n",
    "    \"\"\"\n",
    "    Return batches of input and target\n",
    "    :param int_text: Text with the words replaced by their ids\n",
    "    :param batch_size: The size of batch\n",
    "    :param seq_length: The length of sequence\n",
    "    :return: Batches as a Numpy array\n",
    "    \"\"\"\n",
    "    # TODO: Implement Function\n",
    "    n_batches = len(int_text) // (batch_size * seq_length)\n",
    "    valid_len = n_batches * batch_size * seq_length\n",
    "    inputs = int_text[:valid_len]\n",
    "    targets = int_text[1:valid_len] + [int_text[0]]\n",
    "\n",
    "    x = np.reshape(inputs, (batch_size, n_batches, seq_length))\n",
    "    y = np.reshape(targets, (batch_size, n_batches, seq_length))\n",
    "    out = []\n",
    "    \n",
    "    for i in range(n_batches):\n",
    "        out.append([x[:,i], y[:,i]])\n",
    "    return np.array(out)\n",
    "\n",
    "## from review\n",
    "#     num_batches = len(int_text) // (batch_size * seq_length)\n",
    "\n",
    "#     xdata = np.array(int_text[:n_batches * batch_size * seq_length])\n",
    "#     ydata = np.array(int_text[1:n_batches * batch_size * seq_length + 1])\n",
    "\n",
    "#     x_batches = np.split(xdata.reshape(batch_size, -1), n_batches, 1)\n",
    "#     y_batches = np.split(ydata.reshape(batch_size, -1), n_batches, 1)\n",
    "\n",
    "#     batches = np.array(list(zip(y_batches, x_batches)))\n",
    "\n",
    "#     return batches\n",
    "\"\"\"\n",
    "DON'T MODIFY ANYTHING IN THIS CELL THAT IS BELOW THIS LINE\n",
    "\"\"\"\n",
    "tests.test_get_batches(get_batches)"
   ]
  },
  {
   "cell_type": "markdown",
   "metadata": {},
   "source": [
    "## Neural Network Training\n",
    "### Hyperparameters\n",
    "Tune the following parameters:\n",
    "\n",
    "- Set `num_epochs` to the number of epochs.\n",
    "- Set `batch_size` to the batch size.\n",
    "- Set `rnn_size` to the size of the RNNs.\n",
    "- Set `embed_dim` to the size of the embedding.\n",
    "- Set `seq_length` to the length of sequence.\n",
    "- Set `learning_rate` to the learning rate.\n",
    "- Set `show_every_n_batches` to the number of batches the neural network should print progress."
   ]
  },
  {
   "cell_type": "code",
   "execution_count": 170,
   "metadata": {
    "collapsed": true
   },
   "outputs": [],
   "source": [
    "# Number of Epochs\n",
    "# Enough epochs to get near a minimum in the training loss, \n",
    "# no real upper limit on this. Just need to make sure the \n",
    "# training loss is low and not improving much with more training.\n",
    "num_epochs = 200\n",
    "\n",
    "# Batch Size\n",
    "# Batch size is large enough to train efficiently, but small \n",
    "# enough to fit the data in memory. No real “best” value here, \n",
    "# depends on GPU memory usually.\n",
    "batch_size = 128\n",
    "\n",
    "# RNN Size\n",
    "# Size of the RNN cells (number of units in the hidden layers) \n",
    "# is large enough to fit the data well. Again, no real “best” value.\n",
    "rnn_size = 256\n",
    "\n",
    "# Number of layers\n",
    "num_layers = 2\n",
    "\n",
    "# Dropout\n",
    "keep_prob = 0.7\n",
    "\n",
    "# Embedding Dimension Size\n",
    "embed_dim = 512\n",
    "\n",
    "# Sequence Length\n",
    "# The sequence length (seq_length) here should be about \n",
    "# the size of the length of sentences you want to generate. \n",
    "# Should match the structure of the data.\n",
    "# here about 10-12\n",
    "seq_length = 32\n",
    "\n",
    "# Learning Rate\n",
    "learning_rate = 0.005\n",
    "# Show stats for every n number of batches\n",
    "show_every_n_batches = 20\n",
    "\n",
    "\"\"\"\n",
    "DON'T MODIFY ANYTHING IN THIS CELL THAT IS BELOW THIS LINE\n",
    "\"\"\"\n",
    "save_dir = './save'"
   ]
  },
  {
   "cell_type": "markdown",
   "metadata": {},
   "source": [
    "### Build the Graph\n",
    "Build the graph using the neural network you implemented."
   ]
  },
  {
   "cell_type": "code",
   "execution_count": 171,
   "metadata": {
    "collapsed": true,
    "scrolled": false
   },
   "outputs": [],
   "source": [
    "\"\"\"\n",
    "DON'T MODIFY ANYTHING IN THIS CELL\n",
    "\"\"\"\n",
    "from tensorflow.contrib import seq2seq\n",
    "\n",
    "train_graph = tf.Graph()\n",
    "with train_graph.as_default():\n",
    "    vocab_size = len(int_to_vocab)\n",
    "    input_text, targets, lr = get_inputs()\n",
    "    input_data_shape = tf.shape(input_text)\n",
    "    cell, initial_state = get_init_cell(input_data_shape[0], rnn_size, num_layers, keep_prob)\n",
    "    logits, final_state = build_nn(cell, rnn_size, input_text, vocab_size, embed_dim)\n",
    "\n",
    "    # Probabilities for generating words\n",
    "    probs = tf.nn.softmax(logits, name='probs')\n",
    "\n",
    "    # Loss function\n",
    "    cost = seq2seq.sequence_loss(\n",
    "        logits,\n",
    "        targets,\n",
    "        tf.ones([input_data_shape[0], input_data_shape[1]]))\n",
    "\n",
    "    # Optimizer\n",
    "    optimizer = tf.train.AdamOptimizer(lr)\n",
    "\n",
    "    # Gradient Clipping\n",
    "    gradients = optimizer.compute_gradients(cost)\n",
    "    capped_gradients = [(tf.clip_by_value(grad, -1., 1.), var) for grad, var in gradients if grad is not None]\n",
    "    train_op = optimizer.apply_gradients(capped_gradients)"
   ]
  },
  {
   "cell_type": "markdown",
   "metadata": {},
   "source": [
    "## Train\n",
    "Train the neural network on the preprocessed data.  If you have a hard time getting a good loss, check the [forms](https://discussions.udacity.com/) to see if anyone is having the same problem."
   ]
  },
  {
   "cell_type": "code",
   "execution_count": 172,
   "metadata": {
    "collapsed": false,
    "scrolled": false
   },
   "outputs": [
    {
     "name": "stdout",
     "output_type": "stream",
     "text": [
      "Epoch   0 Batch    0/16   train_loss = 8.832\n",
      "Epoch   0 Batch   10/16   train_loss = 6.254\n",
      "Epoch   1 Batch    4/16   train_loss = 5.598\n",
      "Epoch   1 Batch   14/16   train_loss = 5.381\n",
      "Epoch   2 Batch    8/16   train_loss = 5.181\n",
      "Epoch   3 Batch    2/16   train_loss = 5.019\n",
      "Epoch   3 Batch   12/16   train_loss = 4.798\n",
      "Epoch   4 Batch    6/16   train_loss = 4.689\n",
      "Epoch   5 Batch    0/16   train_loss = 4.543\n",
      "Epoch   5 Batch   10/16   train_loss = 4.507\n",
      "Epoch   6 Batch    4/16   train_loss = 4.362\n",
      "Epoch   6 Batch   14/16   train_loss = 4.275\n",
      "Epoch   7 Batch    8/16   train_loss = 4.204\n",
      "Epoch   8 Batch    2/16   train_loss = 4.155\n",
      "Epoch   8 Batch   12/16   train_loss = 3.971\n",
      "Epoch   9 Batch    6/16   train_loss = 3.965\n",
      "Epoch  10 Batch    0/16   train_loss = 3.844\n",
      "Epoch  10 Batch   10/16   train_loss = 3.854\n",
      "Epoch  11 Batch    4/16   train_loss = 3.737\n",
      "Epoch  11 Batch   14/16   train_loss = 3.629\n",
      "Epoch  12 Batch    8/16   train_loss = 3.621\n",
      "Epoch  13 Batch    2/16   train_loss = 3.550\n",
      "Epoch  13 Batch   12/16   train_loss = 3.405\n",
      "Epoch  14 Batch    6/16   train_loss = 3.385\n",
      "Epoch  15 Batch    0/16   train_loss = 3.318\n",
      "Epoch  15 Batch   10/16   train_loss = 3.298\n",
      "Epoch  16 Batch    4/16   train_loss = 3.204\n",
      "Epoch  16 Batch   14/16   train_loss = 3.129\n",
      "Epoch  17 Batch    8/16   train_loss = 3.139\n",
      "Epoch  18 Batch    2/16   train_loss = 3.086\n",
      "Epoch  18 Batch   12/16   train_loss = 2.967\n",
      "Epoch  19 Batch    6/16   train_loss = 2.913\n",
      "Epoch  20 Batch    0/16   train_loss = 2.861\n",
      "Epoch  20 Batch   10/16   train_loss = 2.862\n",
      "Epoch  21 Batch    4/16   train_loss = 2.782\n",
      "Epoch  21 Batch   14/16   train_loss = 2.703\n",
      "Epoch  22 Batch    8/16   train_loss = 2.718\n",
      "Epoch  23 Batch    2/16   train_loss = 2.675\n",
      "Epoch  23 Batch   12/16   train_loss = 2.603\n",
      "Epoch  24 Batch    6/16   train_loss = 2.517\n",
      "Epoch  25 Batch    0/16   train_loss = 2.521\n",
      "Epoch  25 Batch   10/16   train_loss = 2.472\n",
      "Epoch  26 Batch    4/16   train_loss = 2.434\n",
      "Epoch  26 Batch   14/16   train_loss = 2.386\n",
      "Epoch  27 Batch    8/16   train_loss = 2.386\n",
      "Epoch  28 Batch    2/16   train_loss = 2.393\n",
      "Epoch  28 Batch   12/16   train_loss = 2.323\n",
      "Epoch  29 Batch    6/16   train_loss = 2.243\n",
      "Epoch  30 Batch    0/16   train_loss = 2.222\n",
      "Epoch  30 Batch   10/16   train_loss = 2.227\n",
      "Epoch  31 Batch    4/16   train_loss = 2.178\n",
      "Epoch  31 Batch   14/16   train_loss = 2.074\n",
      "Epoch  32 Batch    8/16   train_loss = 2.135\n",
      "Epoch  33 Batch    2/16   train_loss = 2.092\n",
      "Epoch  33 Batch   12/16   train_loss = 2.051\n",
      "Epoch  34 Batch    6/16   train_loss = 1.963\n",
      "Epoch  35 Batch    0/16   train_loss = 2.025\n",
      "Epoch  35 Batch   10/16   train_loss = 1.960\n",
      "Epoch  36 Batch    4/16   train_loss = 1.934\n",
      "Epoch  36 Batch   14/16   train_loss = 1.863\n",
      "Epoch  37 Batch    8/16   train_loss = 1.856\n",
      "Epoch  38 Batch    2/16   train_loss = 1.860\n",
      "Epoch  38 Batch   12/16   train_loss = 1.845\n",
      "Epoch  39 Batch    6/16   train_loss = 1.752\n",
      "Epoch  40 Batch    0/16   train_loss = 1.795\n",
      "Epoch  40 Batch   10/16   train_loss = 1.773\n",
      "Epoch  41 Batch    4/16   train_loss = 1.749\n",
      "Epoch  41 Batch   14/16   train_loss = 1.665\n",
      "Epoch  42 Batch    8/16   train_loss = 1.723\n",
      "Epoch  43 Batch    2/16   train_loss = 1.687\n",
      "Epoch  43 Batch   12/16   train_loss = 1.648\n",
      "Epoch  44 Batch    6/16   train_loss = 1.563\n",
      "Epoch  45 Batch    0/16   train_loss = 1.614\n",
      "Epoch  45 Batch   10/16   train_loss = 1.576\n",
      "Epoch  46 Batch    4/16   train_loss = 1.589\n",
      "Epoch  46 Batch   14/16   train_loss = 1.528\n",
      "Epoch  47 Batch    8/16   train_loss = 1.534\n",
      "Epoch  48 Batch    2/16   train_loss = 1.485\n",
      "Epoch  48 Batch   12/16   train_loss = 1.523\n",
      "Epoch  49 Batch    6/16   train_loss = 1.435\n",
      "Epoch  50 Batch    0/16   train_loss = 1.513\n",
      "Epoch  50 Batch   10/16   train_loss = 1.513\n",
      "Epoch  51 Batch    4/16   train_loss = 1.445\n",
      "Epoch  51 Batch   14/16   train_loss = 1.388\n",
      "Epoch  52 Batch    8/16   train_loss = 1.406\n",
      "Epoch  53 Batch    2/16   train_loss = 1.401\n",
      "Epoch  53 Batch   12/16   train_loss = 1.380\n",
      "Epoch  54 Batch    6/16   train_loss = 1.299\n",
      "Epoch  55 Batch    0/16   train_loss = 1.351\n",
      "Epoch  55 Batch   10/16   train_loss = 1.346\n",
      "Epoch  56 Batch    4/16   train_loss = 1.316\n",
      "Epoch  56 Batch   14/16   train_loss = 1.286\n",
      "Epoch  57 Batch    8/16   train_loss = 1.268\n",
      "Epoch  58 Batch    2/16   train_loss = 1.306\n",
      "Epoch  58 Batch   12/16   train_loss = 1.275\n",
      "Epoch  59 Batch    6/16   train_loss = 1.195\n",
      "Epoch  60 Batch    0/16   train_loss = 1.238\n",
      "Epoch  60 Batch   10/16   train_loss = 1.244\n",
      "Epoch  61 Batch    4/16   train_loss = 1.242\n",
      "Epoch  61 Batch   14/16   train_loss = 1.161\n",
      "Epoch  62 Batch    8/16   train_loss = 1.171\n",
      "Epoch  63 Batch    2/16   train_loss = 1.172\n",
      "Epoch  63 Batch   12/16   train_loss = 1.178\n",
      "Epoch  64 Batch    6/16   train_loss = 1.102\n",
      "Epoch  65 Batch    0/16   train_loss = 1.139\n",
      "Epoch  65 Batch   10/16   train_loss = 1.096\n",
      "Epoch  66 Batch    4/16   train_loss = 1.115\n",
      "Epoch  66 Batch   14/16   train_loss = 1.095\n",
      "Epoch  67 Batch    8/16   train_loss = 1.081\n",
      "Epoch  68 Batch    2/16   train_loss = 1.086\n",
      "Epoch  68 Batch   12/16   train_loss = 1.074\n",
      "Epoch  69 Batch    6/16   train_loss = 1.008\n",
      "Epoch  70 Batch    0/16   train_loss = 1.065\n",
      "Epoch  70 Batch   10/16   train_loss = 1.043\n",
      "Epoch  71 Batch    4/16   train_loss = 1.030\n",
      "Epoch  71 Batch   14/16   train_loss = 0.996\n",
      "Epoch  72 Batch    8/16   train_loss = 1.014\n",
      "Epoch  73 Batch    2/16   train_loss = 1.016\n",
      "Epoch  73 Batch   12/16   train_loss = 1.024\n",
      "Epoch  74 Batch    6/16   train_loss = 0.932\n",
      "Epoch  75 Batch    0/16   train_loss = 0.984\n",
      "Epoch  75 Batch   10/16   train_loss = 0.941\n",
      "Epoch  76 Batch    4/16   train_loss = 0.962\n",
      "Epoch  76 Batch   14/16   train_loss = 0.950\n",
      "Epoch  77 Batch    8/16   train_loss = 0.923\n",
      "Epoch  78 Batch    2/16   train_loss = 0.934\n",
      "Epoch  78 Batch   12/16   train_loss = 0.956\n",
      "Epoch  79 Batch    6/16   train_loss = 0.866\n",
      "Epoch  80 Batch    0/16   train_loss = 0.941\n",
      "Epoch  80 Batch   10/16   train_loss = 0.932\n",
      "Epoch  81 Batch    4/16   train_loss = 0.909\n",
      "Epoch  81 Batch   14/16   train_loss = 0.900\n",
      "Epoch  82 Batch    8/16   train_loss = 0.895\n",
      "Epoch  83 Batch    2/16   train_loss = 0.943\n",
      "Epoch  83 Batch   12/16   train_loss = 0.938\n",
      "Epoch  84 Batch    6/16   train_loss = 0.853\n",
      "Epoch  85 Batch    0/16   train_loss = 0.891\n",
      "Epoch  85 Batch   10/16   train_loss = 0.888\n",
      "Epoch  86 Batch    4/16   train_loss = 0.889\n",
      "Epoch  86 Batch   14/16   train_loss = 0.892\n",
      "Epoch  87 Batch    8/16   train_loss = 0.908\n",
      "Epoch  88 Batch    2/16   train_loss = 0.869\n",
      "Epoch  88 Batch   12/16   train_loss = 0.881\n",
      "Epoch  89 Batch    6/16   train_loss = 0.832\n",
      "Epoch  90 Batch    0/16   train_loss = 0.864\n",
      "Epoch  90 Batch   10/16   train_loss = 0.869\n",
      "Epoch  91 Batch    4/16   train_loss = 0.880\n",
      "Epoch  91 Batch   14/16   train_loss = 0.817\n",
      "Epoch  92 Batch    8/16   train_loss = 0.824\n",
      "Epoch  93 Batch    2/16   train_loss = 0.801\n",
      "Epoch  93 Batch   12/16   train_loss = 0.803\n",
      "Epoch  94 Batch    6/16   train_loss = 0.761\n",
      "Epoch  95 Batch    0/16   train_loss = 0.804\n",
      "Epoch  95 Batch   10/16   train_loss = 0.811\n",
      "Epoch  96 Batch    4/16   train_loss = 0.820\n",
      "Epoch  96 Batch   14/16   train_loss = 0.772\n",
      "Epoch  97 Batch    8/16   train_loss = 0.772\n",
      "Epoch  98 Batch    2/16   train_loss = 0.777\n",
      "Epoch  98 Batch   12/16   train_loss = 0.761\n",
      "Epoch  99 Batch    6/16   train_loss = 0.708\n",
      "Epoch 100 Batch    0/16   train_loss = 0.730\n",
      "Epoch 100 Batch   10/16   train_loss = 0.760\n",
      "Epoch 101 Batch    4/16   train_loss = 0.780\n",
      "Epoch 101 Batch   14/16   train_loss = 0.742\n",
      "Epoch 102 Batch    8/16   train_loss = 0.751\n",
      "Epoch 103 Batch    2/16   train_loss = 0.737\n",
      "Epoch 103 Batch   12/16   train_loss = 0.754\n",
      "Epoch 104 Batch    6/16   train_loss = 0.735\n",
      "Epoch 105 Batch    0/16   train_loss = 0.834\n",
      "Epoch 105 Batch   10/16   train_loss = 0.840\n",
      "Epoch 106 Batch    4/16   train_loss = 0.796\n",
      "Epoch 106 Batch   14/16   train_loss = 0.786\n",
      "Epoch 107 Batch    8/16   train_loss = 0.772\n",
      "Epoch 108 Batch    2/16   train_loss = 0.779\n",
      "Epoch 108 Batch   12/16   train_loss = 0.788\n",
      "Epoch 109 Batch    6/16   train_loss = 0.718\n",
      "Epoch 110 Batch    0/16   train_loss = 0.730\n",
      "Epoch 110 Batch   10/16   train_loss = 0.722\n",
      "Epoch 111 Batch    4/16   train_loss = 0.685\n",
      "Epoch 111 Batch   14/16   train_loss = 0.690\n",
      "Epoch 112 Batch    8/16   train_loss = 0.658\n",
      "Epoch 113 Batch    2/16   train_loss = 0.693\n",
      "Epoch 113 Batch   12/16   train_loss = 0.680\n",
      "Epoch 114 Batch    6/16   train_loss = 0.616\n",
      "Epoch 115 Batch    0/16   train_loss = 0.669\n",
      "Epoch 115 Batch   10/16   train_loss = 0.679\n",
      "Epoch 116 Batch    4/16   train_loss = 0.658\n",
      "Epoch 116 Batch   14/16   train_loss = 0.627\n",
      "Epoch 117 Batch    8/16   train_loss = 0.631\n",
      "Epoch 118 Batch    2/16   train_loss = 0.639\n",
      "Epoch 118 Batch   12/16   train_loss = 0.651\n",
      "Epoch 119 Batch    6/16   train_loss = 0.585\n",
      "Epoch 120 Batch    0/16   train_loss = 0.614\n",
      "Epoch 120 Batch   10/16   train_loss = 0.632\n",
      "Epoch 121 Batch    4/16   train_loss = 0.633\n",
      "Epoch 121 Batch   14/16   train_loss = 0.604\n",
      "Epoch 122 Batch    8/16   train_loss = 0.646\n",
      "Epoch 123 Batch    2/16   train_loss = 0.625\n",
      "Epoch 123 Batch   12/16   train_loss = 0.619\n",
      "Epoch 124 Batch    6/16   train_loss = 0.571\n",
      "Epoch 125 Batch    0/16   train_loss = 0.598\n",
      "Epoch 125 Batch   10/16   train_loss = 0.625\n",
      "Epoch 126 Batch    4/16   train_loss = 0.620\n",
      "Epoch 126 Batch   14/16   train_loss = 0.576\n",
      "Epoch 127 Batch    8/16   train_loss = 0.585\n",
      "Epoch 128 Batch    2/16   train_loss = 0.590\n",
      "Epoch 128 Batch   12/16   train_loss = 0.627\n",
      "Epoch 129 Batch    6/16   train_loss = 0.575\n",
      "Epoch 130 Batch    0/16   train_loss = 0.596\n",
      "Epoch 130 Batch   10/16   train_loss = 0.631\n",
      "Epoch 131 Batch    4/16   train_loss = 0.621\n",
      "Epoch 131 Batch   14/16   train_loss = 0.603\n",
      "Epoch 132 Batch    8/16   train_loss = 0.596\n",
      "Epoch 133 Batch    2/16   train_loss = 0.589\n",
      "Epoch 133 Batch   12/16   train_loss = 0.604\n",
      "Epoch 134 Batch    6/16   train_loss = 0.589\n",
      "Epoch 135 Batch    0/16   train_loss = 0.632\n",
      "Epoch 135 Batch   10/16   train_loss = 0.627\n",
      "Epoch 136 Batch    4/16   train_loss = 0.604\n",
      "Epoch 136 Batch   14/16   train_loss = 0.570\n",
      "Epoch 137 Batch    8/16   train_loss = 0.589\n",
      "Epoch 138 Batch    2/16   train_loss = 0.610\n",
      "Epoch 138 Batch   12/16   train_loss = 0.663\n",
      "Epoch 139 Batch    6/16   train_loss = 0.596\n",
      "Epoch 140 Batch    0/16   train_loss = 0.592\n",
      "Epoch 140 Batch   10/16   train_loss = 0.589\n",
      "Epoch 141 Batch    4/16   train_loss = 0.596\n",
      "Epoch 141 Batch   14/16   train_loss = 0.554\n",
      "Epoch 142 Batch    8/16   train_loss = 0.588\n",
      "Epoch 143 Batch    2/16   train_loss = 0.561\n",
      "Epoch 143 Batch   12/16   train_loss = 0.584\n",
      "Epoch 144 Batch    6/16   train_loss = 0.511\n",
      "Epoch 145 Batch    0/16   train_loss = 0.550\n",
      "Epoch 145 Batch   10/16   train_loss = 0.568\n",
      "Epoch 146 Batch    4/16   train_loss = 0.540\n",
      "Epoch 146 Batch   14/16   train_loss = 0.543\n",
      "Epoch 147 Batch    8/16   train_loss = 0.530\n",
      "Epoch 148 Batch    2/16   train_loss = 0.548\n",
      "Epoch 148 Batch   12/16   train_loss = 0.530\n",
      "Epoch 149 Batch    6/16   train_loss = 0.484\n",
      "Epoch 150 Batch    0/16   train_loss = 0.540\n",
      "Epoch 150 Batch   10/16   train_loss = 0.557\n",
      "Epoch 151 Batch    4/16   train_loss = 0.523\n",
      "Epoch 151 Batch   14/16   train_loss = 0.502\n",
      "Epoch 152 Batch    8/16   train_loss = 0.510\n",
      "Epoch 153 Batch    2/16   train_loss = 0.524\n",
      "Epoch 153 Batch   12/16   train_loss = 0.507\n",
      "Epoch 154 Batch    6/16   train_loss = 0.475\n",
      "Epoch 155 Batch    0/16   train_loss = 0.514\n",
      "Epoch 155 Batch   10/16   train_loss = 0.494\n",
      "Epoch 156 Batch    4/16   train_loss = 0.491\n",
      "Epoch 156 Batch   14/16   train_loss = 0.491\n",
      "Epoch 157 Batch    8/16   train_loss = 0.500\n",
      "Epoch 158 Batch    2/16   train_loss = 0.512\n",
      "Epoch 158 Batch   12/16   train_loss = 0.507\n",
      "Epoch 159 Batch    6/16   train_loss = 0.464\n",
      "Epoch 160 Batch    0/16   train_loss = 0.519\n",
      "Epoch 160 Batch   10/16   train_loss = 0.533\n",
      "Epoch 161 Batch    4/16   train_loss = 0.486\n",
      "Epoch 161 Batch   14/16   train_loss = 0.504\n",
      "Epoch 162 Batch    8/16   train_loss = 0.505\n",
      "Epoch 163 Batch    2/16   train_loss = 0.538\n",
      "Epoch 163 Batch   12/16   train_loss = 0.515\n",
      "Epoch 164 Batch    6/16   train_loss = 0.444\n",
      "Epoch 165 Batch    0/16   train_loss = 0.500\n",
      "Epoch 165 Batch   10/16   train_loss = 0.532\n",
      "Epoch 166 Batch    4/16   train_loss = 0.535\n",
      "Epoch 166 Batch   14/16   train_loss = 0.498\n",
      "Epoch 167 Batch    8/16   train_loss = 0.498\n",
      "Epoch 168 Batch    2/16   train_loss = 0.492\n",
      "Epoch 168 Batch   12/16   train_loss = 0.519\n",
      "Epoch 169 Batch    6/16   train_loss = 0.483\n",
      "Epoch 170 Batch    0/16   train_loss = 0.510\n",
      "Epoch 170 Batch   10/16   train_loss = 0.511\n",
      "Epoch 171 Batch    4/16   train_loss = 0.485\n",
      "Epoch 171 Batch   14/16   train_loss = 0.492\n",
      "Epoch 172 Batch    8/16   train_loss = 0.502\n",
      "Epoch 173 Batch    2/16   train_loss = 0.519\n",
      "Epoch 173 Batch   12/16   train_loss = 0.526\n",
      "Epoch 174 Batch    6/16   train_loss = 0.476\n",
      "Epoch 175 Batch    0/16   train_loss = 0.510\n",
      "Epoch 175 Batch   10/16   train_loss = 0.504\n",
      "Epoch 176 Batch    4/16   train_loss = 0.476\n",
      "Epoch 176 Batch   14/16   train_loss = 0.508\n",
      "Epoch 177 Batch    8/16   train_loss = 0.490\n",
      "Epoch 178 Batch    2/16   train_loss = 0.499\n",
      "Epoch 178 Batch   12/16   train_loss = 0.501\n",
      "Epoch 179 Batch    6/16   train_loss = 0.458\n",
      "Epoch 180 Batch    0/16   train_loss = 0.444\n",
      "Epoch 180 Batch   10/16   train_loss = 0.523\n",
      "Epoch 181 Batch    4/16   train_loss = 0.477\n",
      "Epoch 181 Batch   14/16   train_loss = 0.464\n",
      "Epoch 182 Batch    8/16   train_loss = 0.478\n",
      "Epoch 183 Batch    2/16   train_loss = 0.487\n",
      "Epoch 183 Batch   12/16   train_loss = 0.485\n",
      "Epoch 184 Batch    6/16   train_loss = 0.436\n",
      "Epoch 185 Batch    0/16   train_loss = 0.456\n",
      "Epoch 185 Batch   10/16   train_loss = 0.485\n",
      "Epoch 186 Batch    4/16   train_loss = 0.446\n",
      "Epoch 186 Batch   14/16   train_loss = 0.452\n",
      "Epoch 187 Batch    8/16   train_loss = 0.472\n",
      "Epoch 188 Batch    2/16   train_loss = 0.481\n",
      "Epoch 188 Batch   12/16   train_loss = 0.481\n",
      "Epoch 189 Batch    6/16   train_loss = 0.407\n",
      "Epoch 190 Batch    0/16   train_loss = 0.465\n",
      "Epoch 190 Batch   10/16   train_loss = 0.460\n",
      "Epoch 191 Batch    4/16   train_loss = 0.476\n",
      "Epoch 191 Batch   14/16   train_loss = 0.461\n",
      "Epoch 192 Batch    8/16   train_loss = 0.443\n",
      "Epoch 193 Batch    2/16   train_loss = 0.443\n",
      "Epoch 193 Batch   12/16   train_loss = 0.483\n",
      "Epoch 194 Batch    6/16   train_loss = 0.435\n",
      "Epoch 195 Batch    0/16   train_loss = 0.435\n",
      "Epoch 195 Batch   10/16   train_loss = 0.476\n",
      "Epoch 196 Batch    4/16   train_loss = 0.442\n",
      "Epoch 196 Batch   14/16   train_loss = 0.464\n",
      "Epoch 197 Batch    8/16   train_loss = 0.456\n",
      "Epoch 198 Batch    2/16   train_loss = 0.436\n",
      "Epoch 198 Batch   12/16   train_loss = 0.478\n",
      "Epoch 199 Batch    6/16   train_loss = 0.402\n",
      "Model Trained and Saved\n"
     ]
    }
   ],
   "source": [
    "\"\"\"\n",
    "DON'T MODIFY ANYTHING IN THIS CELL\n",
    "\"\"\"\n",
    "batches = get_batches(int_text, batch_size, seq_length)\n",
    "\n",
    "with tf.Session(graph=train_graph) as sess:\n",
    "    sess.run(tf.global_variables_initializer())\n",
    "\n",
    "    for epoch_i in range(num_epochs):\n",
    "        state = sess.run(initial_state, {input_text: batches[0][0]})\n",
    "\n",
    "        for batch_i, (x, y) in enumerate(batches):\n",
    "            feed = {\n",
    "                input_text: x,\n",
    "                targets: y,\n",
    "                initial_state: state,\n",
    "                lr: learning_rate}\n",
    "            train_loss, state, _ = sess.run([cost, final_state, train_op], feed)\n",
    "\n",
    "            # Show every <show_every_n_batches> batches\n",
    "            if (epoch_i * len(batches) + batch_i) % show_every_n_batches == 0:\n",
    "                print('Epoch {:>3} Batch {:>4}/{}   train_loss = {:.3f}'.format(\n",
    "                    epoch_i,\n",
    "                    batch_i,\n",
    "                    len(batches),\n",
    "                    train_loss))\n",
    "\n",
    "    # Save Model\n",
    "    saver = tf.train.Saver()\n",
    "    saver.save(sess, save_dir)\n",
    "    print('Model Trained and Saved')"
   ]
  },
  {
   "cell_type": "markdown",
   "metadata": {},
   "source": [
    "## Save Parameters\n",
    "Save `seq_length` and `save_dir` for generating a new TV script."
   ]
  },
  {
   "cell_type": "code",
   "execution_count": 173,
   "metadata": {
    "collapsed": true
   },
   "outputs": [],
   "source": [
    "\"\"\"\n",
    "DON'T MODIFY ANYTHING IN THIS CELL\n",
    "\"\"\"\n",
    "# Save parameters for checkpoint\n",
    "helper.save_params((seq_length, save_dir))"
   ]
  },
  {
   "cell_type": "markdown",
   "metadata": {},
   "source": [
    "# Checkpoint"
   ]
  },
  {
   "cell_type": "code",
   "execution_count": 174,
   "metadata": {
    "collapsed": true
   },
   "outputs": [],
   "source": [
    "\"\"\"\n",
    "DON'T MODIFY ANYTHING IN THIS CELL\n",
    "\"\"\"\n",
    "import tensorflow as tf\n",
    "import numpy as np\n",
    "import helper\n",
    "import problem_unittests as tests\n",
    "\n",
    "_, vocab_to_int, int_to_vocab, token_dict = helper.load_preprocess()\n",
    "seq_length, load_dir = helper.load_params()"
   ]
  },
  {
   "cell_type": "markdown",
   "metadata": {},
   "source": [
    "## Implement Generate Functions\n",
    "### Get Tensors\n",
    "Get tensors from `loaded_graph` using the function [`get_tensor_by_name()`](https://www.tensorflow.org/api_docs/python/tf/Graph#get_tensor_by_name).  Get the tensors using the following names:\n",
    "- \"input:0\"\n",
    "- \"initial_state:0\"\n",
    "- \"final_state:0\"\n",
    "- \"probs:0\"\n",
    "\n",
    "Return the tensors in the following tuple `(InputTensor, InitialStateTensor, FinalStateTensor, ProbsTensor)` "
   ]
  },
  {
   "cell_type": "code",
   "execution_count": 176,
   "metadata": {
    "collapsed": false
   },
   "outputs": [
    {
     "name": "stdout",
     "output_type": "stream",
     "text": [
      "Tests Passed\n"
     ]
    }
   ],
   "source": [
    "def get_tensors(loaded_graph):\n",
    "    \"\"\"\n",
    "    Get input, initial state, final state, and probabilities tensor from <loaded_graph>\n",
    "    :param loaded_graph: TensorFlow graph loaded from file\n",
    "    :return: Tuple (InputTensor, InitialStateTensor, FinalStateTensor, ProbsTensor)\n",
    "    \"\"\"\n",
    "    # TODO: Implement Function\n",
    "    inputs = loaded_graph.get_tensor_by_name('input:0')\n",
    "    ini_state = loaded_graph.get_tensor_by_name('initial_state:0')\n",
    "    final_state = loaded_graph.get_tensor_by_name('final_state:0')\n",
    "    probs = loaded_graph.get_tensor_by_name('probs:0')\n",
    "    return inputs, ini_state, final_state, probs\n",
    "\n",
    "\n",
    "\"\"\"\n",
    "DON'T MODIFY ANYTHING IN THIS CELL THAT IS BELOW THIS LINE\n",
    "\"\"\"\n",
    "tests.test_get_tensors(get_tensors)"
   ]
  },
  {
   "cell_type": "markdown",
   "metadata": {},
   "source": [
    "### Choose Word\n",
    "Implement the `pick_word()` function to select the next word using `probabilities`."
   ]
  },
  {
   "cell_type": "code",
   "execution_count": 181,
   "metadata": {
    "collapsed": false
   },
   "outputs": [
    {
     "name": "stdout",
     "output_type": "stream",
     "text": [
      "Tests Passed\n"
     ]
    }
   ],
   "source": [
    "# import numpy as np\n",
    "def pick_word(probabilities, int_to_vocab):\n",
    "    \"\"\"\n",
    "    Pick the next word in the generated text\n",
    "    :param probabilities: Probabilites of the next word\n",
    "    :param int_to_vocab: Dictionary of word ids as the keys and words as the values\n",
    "    :return: String of the predicted word\n",
    "    \"\"\"\n",
    "    # TODO: Implement Function\n",
    "    chosen_id = np.random.choice(list(int_to_vocab.keys()), p=probabilities)\n",
    "    return int_to_vocab[chosen_id]\n",
    "\n",
    "\n",
    "\"\"\"\n",
    "DON'T MODIFY ANYTHING IN THIS CELL THAT IS BELOW THIS LINE\n",
    "\"\"\"\n",
    "tests.test_pick_word(pick_word)"
   ]
  },
  {
   "cell_type": "markdown",
   "metadata": {},
   "source": [
    "## Generate TV Script\n",
    "This will generate the TV script for you.  Set `gen_length` to the length of TV script you want to generate."
   ]
  },
  {
   "cell_type": "code",
   "execution_count": 182,
   "metadata": {
    "collapsed": false
   },
   "outputs": [
    {
     "name": "stdout",
     "output_type": "stream",
     "text": [
      "INFO:tensorflow:Restoring parameters from ./save\n",
      "moe_szyslak:(victorious chuckle) no more-- that's them for lenny and i can run ziffcorp, the time you ever heard you could save mckinley.\n",
      "homer_simpson: i can't close a man named much lost with him, on the little woman. you can do about the bathroom who whatever those lenny and that?\n",
      "bart_simpson: that's right.(points to coaster) woo hoo...\n",
      "lou: chief, jer. how come get i've back to buy ya on the tasimeter, the pipes and wreck there, he's dumb..(looks at) you're new a bears guy floating in front of his nuclear old-time motorcycle lord....\n",
      "kent_brockman: and the night are with me, but i was ready for the bank. manjula i've never been in the vacuum fellow of stays watching his stupid and garbage--\" their inspection.\n",
      "seymour_skinner: moe, edna was time.\n",
      "wanted wow, i was a boy.\n",
      "lenny_leonard: off it go! he's an second.\"(etc.\n",
      "lenny_leonard: then we got them drinks into a\n"
     ]
    }
   ],
   "source": [
    "gen_length = 200\n",
    "# homer_simpson, moe_szyslak, or Barney_Gumble\n",
    "prime_word = 'moe_szyslak'\n",
    "\n",
    "\"\"\"\n",
    "DON'T MODIFY ANYTHING IN THIS CELL THAT IS BELOW THIS LINE\n",
    "\"\"\"\n",
    "loaded_graph = tf.Graph()\n",
    "with tf.Session(graph=loaded_graph) as sess:\n",
    "    # Load saved model\n",
    "    loader = tf.train.import_meta_graph(load_dir + '.meta')\n",
    "    loader.restore(sess, load_dir)\n",
    "\n",
    "    # Get Tensors from loaded model\n",
    "    input_text, initial_state, final_state, probs = get_tensors(loaded_graph)\n",
    "\n",
    "    # Sentences generation setup\n",
    "    gen_sentences = [prime_word + ':']\n",
    "    prev_state = sess.run(initial_state, {input_text: np.array([[1]])})\n",
    "\n",
    "    # Generate sentences\n",
    "    for n in range(gen_length):\n",
    "        # Dynamic Input\n",
    "        dyn_input = [[vocab_to_int[word] for word in gen_sentences[-seq_length:]]]\n",
    "        dyn_seq_length = len(dyn_input[0])\n",
    "\n",
    "        # Get Prediction\n",
    "        probabilities, prev_state = sess.run(\n",
    "            [probs, final_state],\n",
    "            {input_text: dyn_input, initial_state: prev_state})\n",
    "        \n",
    "        pred_word = pick_word(probabilities[dyn_seq_length-1], int_to_vocab)\n",
    "\n",
    "        gen_sentences.append(pred_word)\n",
    "    \n",
    "    # Remove tokens\n",
    "    tv_script = ' '.join(gen_sentences)\n",
    "    for key, token in token_dict.items():\n",
    "        ending = ' ' if key in ['\\n', '(', '\"'] else ''\n",
    "        tv_script = tv_script.replace(' ' + token.lower(), key)\n",
    "    tv_script = tv_script.replace('\\n ', '\\n')\n",
    "    tv_script = tv_script.replace('( ', '(')\n",
    "        \n",
    "    print(tv_script)"
   ]
  },
  {
   "cell_type": "markdown",
   "metadata": {},
   "source": [
    "# The TV Script is Nonsensical\n",
    "It's ok if the TV script doesn't make any sense.  We trained on less than a megabyte of text.  In order to get good results, you'll have to use a smaller vocabulary or get more data.  Luckly there's more data!  As we mentioned in the begging of this project, this is a subset of [another dataset](https://www.kaggle.com/wcukierski/the-simpsons-by-the-data).  We didn't have you train on all the data, because that would take too long.  However, you are free to train your neural network on all the data.  After you complete the project, of course.\n",
    "# Submitting This Project\n",
    "When submitting this project, make sure to run all the cells before saving the notebook. Save the notebook file as \"dlnd_tv_script_generation.ipynb\" and save it as a HTML file under \"File\" -> \"Download as\". Include the \"helper.py\" and \"problem_unittests.py\" files in your submission."
   ]
  }
 ],
 "metadata": {
  "anaconda-cloud": {},
  "kernelspec": {
   "display_name": "Python [conda env:dl_u]",
   "language": "python",
   "name": "conda-env-dl_u-py"
  },
  "language_info": {
   "codemirror_mode": {
    "name": "ipython",
    "version": 3
   },
   "file_extension": ".py",
   "mimetype": "text/x-python",
   "name": "python",
   "nbconvert_exporter": "python",
   "pygments_lexer": "ipython3",
   "version": "3.6.1"
  }
 },
 "nbformat": 4,
 "nbformat_minor": 1
}
