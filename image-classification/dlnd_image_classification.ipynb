{
 "cells": [
  {
   "cell_type": "markdown",
   "metadata": {
    "collapsed": true
   },
   "source": [
    "# Image Classification\n",
    "In this project, you'll classify images from the [CIFAR-10 dataset](https://www.cs.toronto.edu/~kriz/cifar.html).  The dataset consists of airplanes, dogs, cats, and other objects. You'll preprocess the images, then train a convolutional neural network on all the samples. The images need to be normalized and the labels need to be one-hot encoded.  You'll get to apply what you learned and build a convolutional, max pooling, dropout, and fully connected layers.  At the end, you'll get to see your neural network's predictions on the sample images.\n",
    "## Get the Data\n",
    "Run the following cell to download the [CIFAR-10 dataset for python](https://www.cs.toronto.edu/~kriz/cifar-10-python.tar.gz)."
   ]
  },
  {
   "cell_type": "code",
   "execution_count": 1,
   "metadata": {},
   "outputs": [
    {
     "name": "stdout",
     "output_type": "stream",
     "text": [
      "All files found!\n"
     ]
    }
   ],
   "source": [
    "\"\"\"\n",
    "DON'T MODIFY ANYTHING IN THIS CELL THAT IS BELOW THIS LINE\n",
    "\"\"\"\n",
    "from urllib.request import urlretrieve\n",
    "from os.path import isfile, isdir\n",
    "from tqdm import tqdm\n",
    "import problem_unittests as tests\n",
    "import tarfile\n",
    "\n",
    "cifar10_dataset_folder_path = 'cifar-10-batches-py'\n",
    "\n",
    "# Use Floyd's cifar-10 dataset if present\n",
    "floyd_cifar10_location = '/input/cifar-10/python.tar.gz'\n",
    "if isfile(floyd_cifar10_location):\n",
    "    tar_gz_path = floyd_cifar10_location\n",
    "else:\n",
    "    tar_gz_path = 'cifar-10-python.tar.gz'\n",
    "\n",
    "class DLProgress(tqdm):\n",
    "    last_block = 0\n",
    "\n",
    "    def hook(self, block_num=1, block_size=1, total_size=None):\n",
    "        self.total = total_size\n",
    "        self.update((block_num - self.last_block) * block_size)\n",
    "        self.last_block = block_num\n",
    "\n",
    "if not isfile(tar_gz_path):\n",
    "    with DLProgress(unit='B', unit_scale=True, miniters=1, desc='CIFAR-10 Dataset') as pbar:\n",
    "        urlretrieve(\n",
    "            'https://www.cs.toronto.edu/~kriz/cifar-10-python.tar.gz',\n",
    "            tar_gz_path,\n",
    "            pbar.hook)\n",
    "\n",
    "if not isdir(cifar10_dataset_folder_path):\n",
    "    with tarfile.open(tar_gz_path) as tar:\n",
    "        tar.extractall()\n",
    "        tar.close()\n",
    "\n",
    "\n",
    "tests.test_folder_path(cifar10_dataset_folder_path)"
   ]
  },
  {
   "cell_type": "markdown",
   "metadata": {},
   "source": [
    "## Explore the Data\n",
    "The dataset is broken into batches to prevent your machine from running out of memory.  The CIFAR-10 dataset consists of 5 batches, named `data_batch_1`, `data_batch_2`, etc.. Each batch contains the labels and images that are one of the following:\n",
    "* airplane\n",
    "* automobile\n",
    "* bird\n",
    "* cat\n",
    "* deer\n",
    "* dog\n",
    "* frog\n",
    "* horse\n",
    "* ship\n",
    "* truck\n",
    "\n",
    "Understanding a dataset is part of making predictions on the data.  Play around with the code cell below by changing the `batch_id` and `sample_id`. The `batch_id` is the id for a batch (1-5). The `sample_id` is the id for a image and label pair in the batch.\n",
    "\n",
    "Ask yourself \"What are all possible labels?\", \"What is the range of values for the image data?\", \"Are the labels in order or random?\".  Answers to questions like these will help you preprocess the data and end up with better predictions."
   ]
  },
  {
   "cell_type": "code",
   "execution_count": 7,
   "metadata": {},
   "outputs": [
    {
     "name": "stdout",
     "output_type": "stream",
     "text": [
      "\n",
      "Stats of batch 3:\n",
      "Samples: 10000\n",
      "Label Counts: {0: 994, 1: 1042, 2: 965, 3: 997, 4: 990, 5: 1029, 6: 978, 7: 1015, 8: 961, 9: 1029}\n",
      "First 20 Labels: [8, 5, 0, 6, 9, 2, 8, 3, 6, 2, 7, 4, 6, 9, 0, 0, 7, 3, 7, 2]\n",
      "\n",
      "Example of Image 9999:\n",
      "Image - Min Value: 3 Max Value: 242\n",
      "Image - Shape: (32, 32, 3)\n",
      "Label - Label Id: 1 Name: automobile\n"
     ]
    },
    {
     "data": {
      "image/png": "[encoded data removed]",
      "text/plain": [
       "<matplotlib.figure.Figure at 0x7f7344983ef0>"
      ]
     },
     "metadata": {
      "image/png": {
       "height": 250,
       "width": 253
      }
     },
     "output_type": "display_data"
    }
   ],
   "source": [
    "%matplotlib inline\n",
    "%config InlineBackend.figure_format = 'retina'\n",
    "\n",
    "import helper\n",
    "import numpy as np\n",
    "\n",
    "# Explore the dataset\n",
    "batch_id = 3\n",
    "sample_id = 9999\n",
    "helper.display_stats(cifar10_dataset_folder_path, batch_id, sample_id)"
   ]
  },
  {
   "cell_type": "markdown",
   "metadata": {},
   "source": [
    "## Implement Preprocess Functions\n",
    "### Normalize\n",
    "In the cell below, implement the `normalize` function to take in image data, `x`, and return it as a normalized Numpy array. The values should be in the range of 0 to 1, inclusive.  The return object should be the same shape as `x`."
   ]
  },
  {
   "cell_type": "code",
   "execution_count": 8,
   "metadata": {},
   "outputs": [
    {
     "name": "stdout",
     "output_type": "stream",
     "text": [
      "Tests Passed\n"
     ]
    }
   ],
   "source": [
    "def normalize(x):\n",
    "    \"\"\"\n",
    "    Normalize a list of sample image data in the range of 0 to 1\n",
    "    : x: List of image data.  The image shape is (32, 32, 3)\n",
    "    : return: Numpy array of normalize data\n",
    "    \"\"\"\n",
    "    max_value = np.amax(x)\n",
    "    if max_value != 0:\n",
    "        return x / max_value\n",
    "    else:\n",
    "        return x\n",
    "\n",
    "\n",
    "\"\"\"\n",
    "DON'T MODIFY ANYTHING IN THIS CELL THAT IS BELOW THIS LINE\n",
    "\"\"\"\n",
    "tests.test_normalize(normalize)"
   ]
  },
  {
   "cell_type": "markdown",
   "metadata": {},
   "source": [
    "### One-hot encode\n",
    "Just like the previous code cell, you'll be implementing a function for preprocessing.  This time, you'll implement the `one_hot_encode` function. The input, `x`, are a list of labels.  Implement the function to return the list of labels as One-Hot encoded Numpy array.  The possible values for labels are 0 to 9. The one-hot encoding function should return the same encoding for each value between each call to `one_hot_encode`.  Make sure to save the map of encodings outside the function.\n",
    "\n",
    "Hint: Don't reinvent the wheel."
   ]
  },
  {
   "cell_type": "code",
   "execution_count": 9,
   "metadata": {},
   "outputs": [
    {
     "name": "stdout",
     "output_type": "stream",
     "text": [
      "Tests Passed\n"
     ]
    }
   ],
   "source": [
    "TOT_LABLES = 10\n",
    "\n",
    "def one_hot_encode(x):\n",
    "    \"\"\"\n",
    "    One hot encode a list of sample labels. Return a one-hot encoded vector for each label.\n",
    "    : x: List of sample Labels\n",
    "    : return: Numpy array of one-hot encoded labels\n",
    "    \"\"\"\n",
    "    # TODO: Implement Function\n",
    "    return np.eye(TOT_LABLES)[x]\n",
    "\n",
    "\n",
    "# alternative implementation\n",
    "# from sklearn.preprocessing import LabelBinarizer\n",
    "# labelBinarizer = LabelBinarizer()\n",
    "# labelBinarizer.fit(range(10))\n",
    "\n",
    "# def one_hot_encode(x):\n",
    "#     return labelBinarizer.transform(x)\n",
    "\"\"\"\n",
    "DON'T MODIFY ANYTHING IN THIS CELL THAT IS BELOW THIS LINE\n",
    "\"\"\"\n",
    "tests.test_one_hot_encode(one_hot_encode)"
   ]
  },
  {
   "cell_type": "markdown",
   "metadata": {},
   "source": [
    "### Randomize Data\n",
    "As you saw from exploring the data above, the order of the samples are randomized.  It doesn't hurt to randomize it again, but you don't need to for this dataset."
   ]
  },
  {
   "cell_type": "markdown",
   "metadata": {},
   "source": [
    "## Preprocess all the data and save it\n",
    "Running the code cell below will preprocess all the CIFAR-10 data and save it to file. The code below also uses 10% of the training data for validation."
   ]
  },
  {
   "cell_type": "code",
   "execution_count": 10,
   "metadata": {
    "collapsed": true
   },
   "outputs": [],
   "source": [
    "\"\"\"\n",
    "DON'T MODIFY ANYTHING IN THIS CELL\n",
    "\"\"\"\n",
    "# Preprocess Training, Validation, and Testing Data\n",
    "helper.preprocess_and_save_data(cifar10_dataset_folder_path, normalize, one_hot_encode)"
   ]
  },
  {
   "cell_type": "markdown",
   "metadata": {},
   "source": [
    "# Check Point\n",
    "This is your first checkpoint.  If you ever decide to come back to this notebook or have to restart the notebook, you can start from here.  The preprocessed data has been saved to disk."
   ]
  },
  {
   "cell_type": "code",
   "execution_count": 11,
   "metadata": {
    "collapsed": true
   },
   "outputs": [],
   "source": [
    "\"\"\"\n",
    "DON'T MODIFY ANYTHING IN THIS CELL\n",
    "\"\"\"\n",
    "import pickle\n",
    "import problem_unittests as tests\n",
    "import helper\n",
    "\n",
    "# Load the Preprocessed Validation data\n",
    "valid_features, valid_labels = pickle.load(open('preprocess_validation.p', mode='rb'))"
   ]
  },
  {
   "cell_type": "code",
   "execution_count": 47,
   "metadata": {},
   "outputs": [
    {
     "data": {
      "text/plain": [
       "(5000, 32, 32, 3)"
      ]
     },
     "execution_count": 47,
     "metadata": {},
     "output_type": "execute_result"
    }
   ],
   "source": [
    "valid_features.shape"
   ]
  },
  {
   "cell_type": "markdown",
   "metadata": {},
   "source": [
    "## Build the network\n",
    "For the neural network, you'll build each layer into a function.  Most of the code you've seen has been outside of functions. To test your code more thoroughly, we require that you put each layer in a function.  This allows us to give you better feedback and test for simple mistakes using our unittests before you submit your project.\n",
    "\n",
    ">**Note:** If you're finding it hard to dedicate enough time for this course each week, we've provided a small shortcut to this part of the project. In the next couple of problems, you'll have the option to use classes from the [TensorFlow Layers](https://www.tensorflow.org/api_docs/python/tf/layers) or [TensorFlow Layers (contrib)](https://www.tensorflow.org/api_guides/python/contrib.layers) packages to build each layer, except the layers you build in the \"Convolutional and Max Pooling Layer\" section.  TF Layers is similar to Keras's and TFLearn's abstraction to layers, so it's easy to pickup.\n",
    "\n",
    ">However, if you would like to get the most out of this course, try to solve all the problems _without_ using anything from the TF Layers packages. You **can** still use classes from other packages that happen to have the same name as ones you find in TF Layers! For example, instead of using the TF Layers version of the `conv2d` class, [tf.layers.conv2d](https://www.tensorflow.org/api_docs/python/tf/layers/conv2d), you would want to use the TF Neural Network version of `conv2d`, [tf.nn.conv2d](https://www.tensorflow.org/api_docs/python/tf/nn/conv2d). \n",
    "\n",
    "Let's begin!\n",
    "\n",
    "### Input\n",
    "The neural network needs to read the image data, one-hot encoded labels, and dropout keep probability. Implement the following functions\n",
    "* Implement `neural_net_image_input`\n",
    " * Return a [TF Placeholder](https://www.tensorflow.org/api_docs/python/tf/placeholder)\n",
    " * Set the shape using `image_shape` with batch size set to `None`.\n",
    " * Name the TensorFlow placeholder \"x\" using the TensorFlow `name` parameter in the [TF Placeholder](https://www.tensorflow.org/api_docs/python/tf/placeholder).\n",
    "* Implement `neural_net_label_input`\n",
    " * Return a [TF Placeholder](https://www.tensorflow.org/api_docs/python/tf/placeholder)\n",
    " * Set the shape using `n_classes` with batch size set to `None`.\n",
    " * Name the TensorFlow placeholder \"y\" using the TensorFlow `name` parameter in the [TF Placeholder](https://www.tensorflow.org/api_docs/python/tf/placeholder).\n",
    "* Implement `neural_net_keep_prob_input`\n",
    " * Return a [TF Placeholder](https://www.tensorflow.org/api_docs/python/tf/placeholder) for dropout keep probability.\n",
    " * Name the TensorFlow placeholder \"keep_prob\" using the TensorFlow `name` parameter in the [TF Placeholder](https://www.tensorflow.org/api_docs/python/tf/placeholder).\n",
    "\n",
    "These names will be used at the end of the project to load your saved model.\n",
    "\n",
    "Note: `None` for shapes in TensorFlow allow for a dynamic size."
   ]
  },
  {
   "cell_type": "code",
   "execution_count": 13,
   "metadata": {},
   "outputs": [
    {
     "name": "stdout",
     "output_type": "stream",
     "text": [
      "Image Input Tests Passed.\n",
      "Label Input Tests Passed.\n",
      "Keep Prob Tests Passed.\n"
     ]
    }
   ],
   "source": [
    "import tensorflow as tf\n",
    "\n",
    "def neural_net_image_input(image_shape):\n",
    "    \"\"\"\n",
    "    Return a Tensor for a batch of image input\n",
    "    : image_shape: Shape of the images\n",
    "    : return: Tensor for image input.\n",
    "    \"\"\"\n",
    "    # TODO: Implement Function\n",
    "#     i, j, k = image_shape\n",
    "#     return tf.placeholder(tf.float32, [None, i, j, k], name='x')\n",
    "    return tf.placeholder(tf.float32, [None, *image_shape], name='x')\n",
    "\n",
    "def neural_net_label_input(n_classes):\n",
    "    \"\"\"\n",
    "    Return a Tensor for a batch of label input\n",
    "    : n_classes: Number of classes\n",
    "    : return: Tensor for label input.\n",
    "    \"\"\"\n",
    "    # TODO: Implement Function\n",
    "    return tf.placeholder(tf.int32, [None, n_classes], name='y')\n",
    "\n",
    "\n",
    "def neural_net_keep_prob_input():\n",
    "    \"\"\"\n",
    "    Return a Tensor for keep probability\n",
    "    : return: Tensor for keep probability.\n",
    "    \"\"\"\n",
    "    # TODO: Implement Function\n",
    "    return tf.placeholder(tf.float32, name='keep_prob')\n",
    "\n",
    "\n",
    "\"\"\"\n",
    "DON'T MODIFY ANYTHING IN THIS CELL THAT IS BELOW THIS LINE\n",
    "\"\"\"\n",
    "tf.reset_default_graph()\n",
    "tests.test_nn_image_inputs(neural_net_image_input)\n",
    "tests.test_nn_label_inputs(neural_net_label_input)\n",
    "tests.test_nn_keep_prob_inputs(neural_net_keep_prob_input)"
   ]
  },
  {
   "cell_type": "markdown",
   "metadata": {},
   "source": [
    "### Convolution and Max Pooling Layer\n",
    "Convolution layers have a lot of success with images. For this code cell, you should implement the function `conv2d_maxpool` to apply convolution then max pooling:\n",
    "* Create the weight and bias using `conv_ksize`, `conv_num_outputs` and the shape of `x_tensor`.\n",
    "* Apply a convolution to `x_tensor` using weight and `conv_strides`.\n",
    " * We recommend you use same padding, but you're welcome to use any padding.\n",
    "* Add bias\n",
    "* Add a nonlinear activation to the convolution.\n",
    "* Apply Max Pooling using `pool_ksize` and `pool_strides`.\n",
    " * We recommend you use same padding, but you're welcome to use any padding.\n",
    "\n",
    "**Note:** You **can't** use [TensorFlow Layers](https://www.tensorflow.org/api_docs/python/tf/layers) or [TensorFlow Layers (contrib)](https://www.tensorflow.org/api_guides/python/contrib.layers) for **this** layer, but you can still use TensorFlow's [Neural Network](https://www.tensorflow.org/api_docs/python/tf/nn) package. You may still use the shortcut option for all the **other** layers."
   ]
  },
  {
   "cell_type": "code",
   "execution_count": 14,
   "metadata": {},
   "outputs": [
    {
     "name": "stdout",
     "output_type": "stream",
     "text": [
      "Tests Passed\n"
     ]
    }
   ],
   "source": [
    "def conv2d_maxpool(x_tensor, conv_num_outputs, conv_ksize, conv_strides, pool_ksize, pool_strides):\n",
    "    \"\"\"\n",
    "    Apply convolution then max pooling to x_tensor\n",
    "    :param x_tensor: TensorFlow Tensor\n",
    "    :param conv_num_outputs: Number of outputs for the convolutional layer\n",
    "    :param conv_ksize: kernal size 2-D Tuple for the convolutional layer\n",
    "    :param conv_strides: Stride 2-D Tuple for convolution\n",
    "    :param pool_ksize: kernal size 2-D Tuple for pool\n",
    "    :param pool_strides: Stride 2-D Tuple for pool\n",
    "    : return: A tensor that represents convolution and max pooling of x_tensor\n",
    "    \"\"\"\n",
    "    # TODO: Implement Function\n",
    "    _, i, j, k = x_tensor.get_shape().as_list()\n",
    "    wt = tf.Variable(tf.truncated_normal([conv_ksize[0], conv_ksize[1], k, conv_num_outputs], stddev=0.01))\n",
    "    bias = tf.Variable(tf.zeros(conv_num_outputs))\n",
    "    \n",
    "    conv_layer = tf.nn.conv2d(x_tensor, wt, \n",
    "                              strides=[1, conv_strides[0], conv_strides[1], 1],\n",
    "                              padding='SAME')\n",
    "    conv_layer = tf.nn.bias_add(conv_layer, bias)\n",
    "    # activation function\n",
    "    conv_layer = tf.nn.relu(conv_layer)\n",
    "    # add max pooling\n",
    "    conv_layer = tf.nn.max_pool(\n",
    "                    conv_layer,\n",
    "                    ksize=[1, pool_ksize[0], pool_ksize[1], 1],\n",
    "                    strides=[1, pool_strides[0], pool_strides[1], 1],\n",
    "                    padding='SAME')\n",
    "    return conv_layer \n",
    "\n",
    "\n",
    "\"\"\"\n",
    "DON'T MODIFY ANYTHING IN THIS CELL THAT IS BELOW THIS LINE\n",
    "\"\"\"\n",
    "tests.test_con_pool(conv2d_maxpool)"
   ]
  },
  {
   "cell_type": "markdown",
   "metadata": {},
   "source": [
    "### Flatten Layer\n",
    "Implement the `flatten` function to change the dimension of `x_tensor` from a 4-D tensor to a 2-D tensor.  The output should be the shape (*Batch Size*, *Flattened Image Size*). Shortcut option: you can use classes from the [TensorFlow Layers](https://www.tensorflow.org/api_docs/python/tf/layers) or [TensorFlow Layers (contrib)](https://www.tensorflow.org/api_guides/python/contrib.layers) packages for this layer. For more of a challenge, only use other TensorFlow packages."
   ]
  },
  {
   "cell_type": "code",
   "execution_count": 15,
   "metadata": {},
   "outputs": [
    {
     "name": "stdout",
     "output_type": "stream",
     "text": [
      "Tests Passed\n"
     ]
    }
   ],
   "source": [
    "def flatten(x_tensor):\n",
    "    \"\"\"\n",
    "    Flatten x_tensor to (Batch Size, Flattened Image Size)\n",
    "    : x_tensor: A tensor of size (Batch Size, ...), where ... are the image dimensions.\n",
    "    : return: A tensor of size (Batch Size, Flattened Image Size).\n",
    "    \"\"\"\n",
    "    # TODO: Implement Function\n",
    "    dim = np.prod(x_tensor.get_shape().as_list()[1:])\n",
    "    x2 = tf.reshape(x_tensor, [-1, dim])\n",
    "    return x2\n",
    "\n",
    "# tf.contrib.layers.flatten(x_tensor, num_outputs).\n",
    "\"\"\"\n",
    "DON'T MODIFY ANYTHING IN THIS CELL THAT IS BELOW THIS LINE\n",
    "\"\"\"\n",
    "tests.test_flatten(flatten)"
   ]
  },
  {
   "cell_type": "markdown",
   "metadata": {},
   "source": [
    "### Fully-Connected Layer\n",
    "Implement the `fully_conn` function to apply a fully connected layer to `x_tensor` with the shape (*Batch Size*, *num_outputs*). Shortcut option: you can use classes from the [TensorFlow Layers](https://www.tensorflow.org/api_docs/python/tf/layers) or [TensorFlow Layers (contrib)](https://www.tensorflow.org/api_guides/python/contrib.layers) packages for this layer. For more of a challenge, only use other TensorFlow packages."
   ]
  },
  {
   "cell_type": "code",
   "execution_count": 17,
   "metadata": {},
   "outputs": [
    {
     "name": "stdout",
     "output_type": "stream",
     "text": [
      "Tests Passed\n"
     ]
    }
   ],
   "source": [
    "def fully_conn(x_tensor, num_outputs):\n",
    "    \"\"\"\n",
    "    Apply a fully connected layer to x_tensor using weight and bias\n",
    "    : x_tensor: A 2-D tensor where the first dimension is batch size.\n",
    "    : num_outputs: The number of output that the new tensor should be.\n",
    "    : return: A 2-D tensor where the second dimension is num_outputs.\n",
    "    \"\"\"\n",
    "    # TODO: Implement Function\n",
    "    # print(x_tensor.get_shape())\n",
    "    i, j = x_tensor.get_shape().as_list()\n",
    "    wt = tf.Variable(tf.truncated_normal([j, num_outputs], stddev=0.01))\n",
    "    bias = tf.Variable(tf.zeros(num_outputs))\n",
    "    fc = tf.add(tf.matmul(x_tensor, wt), bias)\n",
    "    fc = tf.nn.relu(fc)\n",
    "    return fc\n",
    "\n",
    "# tf.contrib.layers.fully_connected(x_tensor, num_outputs, activation_fn=tf.nn.relu).\n",
    "\"\"\"\n",
    "DON'T MODIFY ANYTHING IN THIS CELL THAT IS BELOW THIS LINE\n",
    "\"\"\"\n",
    "tests.test_fully_conn(fully_conn)"
   ]
  },
  {
   "cell_type": "markdown",
   "metadata": {},
   "source": [
    "### Output Layer\n",
    "Implement the `output` function to apply a fully connected layer to `x_tensor` with the shape (*Batch Size*, *num_outputs*). Shortcut option: you can use classes from the [TensorFlow Layers](https://www.tensorflow.org/api_docs/python/tf/layers) or [TensorFlow Layers (contrib)](https://www.tensorflow.org/api_guides/python/contrib.layers) packages for this layer. For more of a challenge, only use other TensorFlow packages.\n",
    "\n",
    "**Note:** Activation, softmax, or cross entropy should **not** be applied to this."
   ]
  },
  {
   "cell_type": "code",
   "execution_count": 18,
   "metadata": {},
   "outputs": [
    {
     "name": "stdout",
     "output_type": "stream",
     "text": [
      "Tests Passed\n"
     ]
    }
   ],
   "source": [
    "def output(x_tensor, num_outputs):\n",
    "    \"\"\"\n",
    "    Apply a output layer to x_tensor using weight and bias\n",
    "    : x_tensor: A 2-D tensor where the first dimension is batch size.\n",
    "    : num_outputs: The number of output that the new tensor should be.\n",
    "    : return: A 2-D tensor where the second dimension is num_outputs.\n",
    "    \"\"\"\n",
    "    # TODO: Implement Function\n",
    "    i, j = x_tensor.get_shape().as_list()\n",
    "    wt = tf.Variable(tf.truncated_normal([j, num_outputs], stddev=0.01))\n",
    "    bias = tf.Variable(tf.zeros(num_outputs))\n",
    "    out = tf.add(tf.matmul(x_tensor, wt), bias)\n",
    "    return out\n",
    "\n",
    "# tf.contrib.layers.fully_connected(x_tensor, num_outputs, activation_fn=None).\n",
    "\n",
    "\"\"\"\n",
    "DON'T MODIFY ANYTHING IN THIS CELL THAT IS BELOW THIS LINE\n",
    "\"\"\"\n",
    "tests.test_output(output)"
   ]
  },
  {
   "cell_type": "markdown",
   "metadata": {},
   "source": [
    "### Create Convolutional Model\n",
    "Implement the function `conv_net` to create a convolutional neural network model. The function takes in a batch of images, `x`, and outputs logits.  Use the layers you created above to create this model:\n",
    "\n",
    "* Apply 1, 2, or 3 Convolution and Max Pool layers\n",
    "* Apply a Flatten Layer\n",
    "* Apply 1, 2, or 3 Fully Connected Layers\n",
    "* Apply an Output Layer\n",
    "* Return the output\n",
    "* Apply [TensorFlow's Dropout](https://www.tensorflow.org/api_docs/python/tf/nn/dropout) to one or more layers in the model using `keep_prob`. "
   ]
  },
  {
   "cell_type": "code",
   "execution_count": 76,
   "metadata": {},
   "outputs": [
    {
     "name": "stdout",
     "output_type": "stream",
     "text": [
      "Neural Network Built!\n"
     ]
    }
   ],
   "source": [
    "\"\"\"\n",
    "from review:\n",
    "https://ujjwalkarn.me/2016/08/11/intuitive-explanation-convnets/\n",
    "http://cs231n.github.io/convolutional-networks/#architectures\n",
    "\"\"\"\n",
    "def conv_net(x, keep_prob):\n",
    "    \"\"\"\n",
    "    Create a convolutional neural network model\n",
    "    : x: Placeholder tensor that holds image data.\n",
    "    : keep_prob: Placeholder tensor that hold dropout keep probability.\n",
    "    : return: Tensor that represents logits\n",
    "    \"\"\"\n",
    "    # TODO: Apply 1, 2, or 3 Convolution and Max Pool layers\n",
    "    #    Play around with different number of outputs, kernel size and stride\n",
    "    # Function Definition from Above:\n",
    "    #    conv2d_maxpool(x_tensor, conv_num_outputs, conv_ksize, conv_strides, pool_ksize, pool_strides)\n",
    "\n",
    "    conv_ksize = [3, 3]\n",
    "    conv_strides = [1, 1]\n",
    "    # common setting\n",
    "    pool_ksize = [2, 2]\n",
    "    pool_strides = [2, 2]\n",
    "\n",
    "    conv_num_outputs = 32\n",
    "    conv1 = conv2d_maxpool(x, conv_num_outputs, conv_ksize, conv_strides,\n",
    "                          pool_ksize, pool_strides)\n",
    "    # conv1 = tf.nn.dropout(conv1, keep_prob)\n",
    "\n",
    "    conv_num_outputs = 64\n",
    "    conv1 = conv2d_maxpool(conv1, conv_num_outputs, conv_ksize, conv_strides,\n",
    "                          pool_ksize, pool_strides)\n",
    "\n",
    "    conv_num_outputs = 128\n",
    "    conv1 = conv2d_maxpool(conv1, conv_num_outputs, conv_ksize, conv_strides,\n",
    "                          pool_ksize, pool_strides)\n",
    "    # dropout\n",
    "    conv1 = tf.nn.dropout(conv1, keep_prob)\n",
    "    # TODO: Apply a Flatten Layer\n",
    "    # Function Definition from Above:\n",
    "    #   flatten(x_tensor)\n",
    "    flat = flatten(conv1)\n",
    "\n",
    "    # TODO: Apply 1, 2, or 3 Fully Connected Layers\n",
    "    #    Play around with different number of outputs\n",
    "    # Function Definition from Above:\n",
    "    #   fully_conn(x_tensor, num_outputs)\n",
    "    num_outputs = 1024\n",
    "    fc = fully_conn(flat, num_outputs)\n",
    "    num_outputs = 1024\n",
    "    fc = fully_conn(fc, num_outputs)\n",
    "    num_outputs = 512\n",
    "    fc = fully_conn(fc, num_outputs)\n",
    "    # TODO: Apply an Output Layer\n",
    "    #    Set this to the number of classes\n",
    "    # Function Definition from Above:\n",
    "    #   output(x_tensor, num_outputs)\n",
    "    fc = output(fc, 10)\n",
    "    \n",
    "    # TODO: return output\n",
    "    return fc\n",
    "\n",
    "\n",
    "\"\"\"\n",
    "DON'T MODIFY ANYTHING IN THIS CELL THAT IS BELOW THIS LINE\n",
    "\"\"\"\n",
    "\n",
    "##############################\n",
    "## Build the Neural Network ##\n",
    "##############################\n",
    "\n",
    "# Remove previous weights, bias, inputs, etc..\n",
    "tf.reset_default_graph()\n",
    "\n",
    "# Inputs\n",
    "x = neural_net_image_input((32, 32, 3))\n",
    "y = neural_net_label_input(10)\n",
    "keep_prob = neural_net_keep_prob_input()\n",
    "\n",
    "# Model\n",
    "logits = conv_net(x, keep_prob)\n",
    "\n",
    "# Name logits Tensor, so that is can be loaded from disk after training\n",
    "logits = tf.identity(logits, name='logits')\n",
    "\n",
    "# Loss and Optimizer\n",
    "cost = tf.reduce_mean(tf.nn.softmax_cross_entropy_with_logits(logits=logits, labels=y))\n",
    "optimizer = tf.train.AdamOptimizer().minimize(cost)\n",
    "\n",
    "# Accuracy\n",
    "correct_pred = tf.equal(tf.argmax(logits, 1), tf.argmax(y, 1))\n",
    "accuracy = tf.reduce_mean(tf.cast(correct_pred, tf.float32), name='accuracy')\n",
    "\n",
    "tests.test_conv_net(conv_net)"
   ]
  },
  {
   "cell_type": "markdown",
   "metadata": {},
   "source": [
    "## Train the Neural Network\n",
    "### Single Optimization\n",
    "Implement the function `train_neural_network` to do a single optimization.  The optimization should use `optimizer` to optimize in `session` with a `feed_dict` of the following:\n",
    "* `x` for image input\n",
    "* `y` for labels\n",
    "* `keep_prob` for keep probability for dropout\n",
    "\n",
    "This function will be called for each batch, so `tf.global_variables_initializer()` has already been called.\n",
    "\n",
    "Note: Nothing needs to be returned. This function is only optimizing the neural network."
   ]
  },
  {
   "cell_type": "code",
   "execution_count": 77,
   "metadata": {},
   "outputs": [
    {
     "name": "stdout",
     "output_type": "stream",
     "text": [
      "Tests Passed\n"
     ]
    }
   ],
   "source": [
    "def train_neural_network(session, optimizer, keep_probability, feature_batch, label_batch):\n",
    "    \"\"\"\n",
    "    Optimize the session on a batch of images and labels\n",
    "    : session: Current TensorFlow session\n",
    "    : optimizer: TensorFlow optimizer function\n",
    "    : keep_probability: keep probability\n",
    "    : feature_batch: Batch of Numpy image data\n",
    "    : label_batch: Batch of Numpy label data\n",
    "    \"\"\"\n",
    "    # TODO: Implement Function\n",
    "    session.run(optimizer, feed_dict={\n",
    "                    x: feature_batch,\n",
    "                    y: label_batch,\n",
    "                    keep_prob: keep_probability})\n",
    "\n",
    "\n",
    "\"\"\"\n",
    "DON'T MODIFY ANYTHING IN THIS CELL THAT IS BELOW THIS LINE\n",
    "\"\"\"\n",
    "tests.test_train_nn(train_neural_network)"
   ]
  },
  {
   "cell_type": "markdown",
   "metadata": {},
   "source": [
    "### Show Stats\n",
    "Implement the function `print_stats` to print loss and validation accuracy.  Use the global variables `valid_features` and `valid_labels` to calculate validation accuracy.  Use a keep probability of `1.0` to calculate the loss and validation accuracy."
   ]
  },
  {
   "cell_type": "code",
   "execution_count": 73,
   "metadata": {
    "collapsed": true
   },
   "outputs": [],
   "source": [
    "\"\"\"\n",
    "from review:\n",
    "https://stackoverflow.com/questions/2976452/whats-is-the-difference-between-train-validation-and-test-set-in-neural-networ\n",
    "\"\"\"\n",
    "def print_stats(session, feature_batch, label_batch, cost, accuracy):\n",
    "    \"\"\"\n",
    "    Print information about loss and validation accuracy\n",
    "    : session: Current TensorFlow session\n",
    "    : feature_batch: Batch of Numpy image data\n",
    "    : label_batch: Batch of Numpy label data\n",
    "    : cost: TensorFlow cost function\n",
    "    : accuracy: TensorFlow accuracy function\n",
    "    \"\"\"\n",
    "    # Calculate batch loss and accuracy\n",
    "    loss = session.run(cost, \n",
    "                       feed_dict={\n",
    "                           x: feature_batch,\n",
    "                           y: label_batch,\n",
    "                           keep_prob: 1.})\n",
    "\n",
    "    train_acc = session.run(accuracy, feed_dict={\n",
    "        x: feature_batch,\n",
    "        y: label_batch,\n",
    "        keep_prob: 1})\n",
    "\n",
    "    \n",
    "    valid_acc = session.run(accuracy, feed_dict={\n",
    "        x: valid_features,\n",
    "        y: valid_labels,\n",
    "        keep_prob: 1.})\n",
    "\n",
    "    print('Loss: {:>10.4f} Training Accuracy {:.6f} Validation Accuracy: {:.6f}'.format(\n",
    "        loss,\n",
    "        train_acc,\n",
    "        valid_acc))\n",
    "    return loss, train_acc, valid_acc"
   ]
  },
  {
   "cell_type": "markdown",
   "metadata": {},
   "source": [
    "### Hyperparameters\n",
    "Tune the following parameters:\n",
    "* Set `epochs` to the number of iterations until the network stops learning or start overfitting\n",
    "* Set `batch_size` to the highest number that your machine has memory for.  Most people set them to common sizes of memory:\n",
    " * 64\n",
    " * 128\n",
    " * 256\n",
    " * ...\n",
    "* Set `keep_probability` to the probability of keeping a node using dropout"
   ]
  },
  {
   "cell_type": "code",
   "execution_count": 64,
   "metadata": {
    "collapsed": true
   },
   "outputs": [],
   "source": [
    "# TODO: Tune Parameters\n",
    "# from review:\n",
    "# https://www.quora.com/Intuitively-how-does-mini-batch-size-affect-the-performance-of-stochastic-gradient-descent\n",
    "epochs = 25\n",
    "batch_size = 128\n",
    "keep_probability = 0.5"
   ]
  },
  {
   "cell_type": "markdown",
   "metadata": {},
   "source": [
    "### Train on a Single CIFAR-10 Batch\n",
    "Instead of training the neural network on all the CIFAR-10 batches of data, let's use a single batch. This should save time while you iterate on the model to get a better accuracy.  Once the final validation accuracy is 50% or greater, run the model on all the data in the next section."
   ]
  },
  {
   "cell_type": "code",
   "execution_count": 65,
   "metadata": {
    "scrolled": false
   },
   "outputs": [
    {
     "name": "stdout",
     "output_type": "stream",
     "text": [
      "Checking the Training on a Single Batch...\n",
      "Epoch  1, CIFAR-10 Batch 1:  Loss:     2.2634 Training Accuracy 0.175000 Validation Accuracy: 0.173600\n",
      "Epoch  2, CIFAR-10 Batch 1:  Loss:     2.1668 Training Accuracy 0.200000 Validation Accuracy: 0.227400\n",
      "Epoch  3, CIFAR-10 Batch 1:  Loss:     2.1625 Training Accuracy 0.275000 Validation Accuracy: 0.242400\n",
      "Epoch  4, CIFAR-10 Batch 1:  Loss:     2.0444 Training Accuracy 0.350000 Validation Accuracy: 0.312600\n",
      "Epoch  5, CIFAR-10 Batch 1:  Loss:     1.9469 Training Accuracy 0.350000 Validation Accuracy: 0.327800\n",
      "Epoch  6, CIFAR-10 Batch 1:  Loss:     1.9079 Training Accuracy 0.350000 Validation Accuracy: 0.368400\n",
      "Epoch  7, CIFAR-10 Batch 1:  Loss:     1.8009 Training Accuracy 0.425000 Validation Accuracy: 0.384200\n",
      "Epoch  8, CIFAR-10 Batch 1:  Loss:     1.6778 Training Accuracy 0.475000 Validation Accuracy: 0.409600\n",
      "Epoch  9, CIFAR-10 Batch 1:  Loss:     1.5757 Training Accuracy 0.500000 Validation Accuracy: 0.421000\n",
      "Epoch 10, CIFAR-10 Batch 1:  Loss:     1.5107 Training Accuracy 0.475000 Validation Accuracy: 0.443000\n",
      "Epoch 11, CIFAR-10 Batch 1:  Loss:     1.4897 Training Accuracy 0.500000 Validation Accuracy: 0.459800\n",
      "Epoch 12, CIFAR-10 Batch 1:  Loss:     1.4516 Training Accuracy 0.500000 Validation Accuracy: 0.470800\n",
      "Epoch 13, CIFAR-10 Batch 1:  Loss:     1.4050 Training Accuracy 0.525000 Validation Accuracy: 0.466000\n",
      "Epoch 14, CIFAR-10 Batch 1:  Loss:     1.2779 Training Accuracy 0.550000 Validation Accuracy: 0.475200\n",
      "Epoch 15, CIFAR-10 Batch 1:  Loss:     1.2260 Training Accuracy 0.575000 Validation Accuracy: 0.486600\n",
      "Epoch 16, CIFAR-10 Batch 1:  Loss:     1.1900 Training Accuracy 0.550000 Validation Accuracy: 0.493000\n",
      "Epoch 17, CIFAR-10 Batch 1:  Loss:     1.0730 Training Accuracy 0.600000 Validation Accuracy: 0.490400\n",
      "Epoch 18, CIFAR-10 Batch 1:  Loss:     1.0635 Training Accuracy 0.650000 Validation Accuracy: 0.495400\n",
      "Epoch 19, CIFAR-10 Batch 1:  Loss:     1.0167 Training Accuracy 0.600000 Validation Accuracy: 0.498800\n",
      "Epoch 20, CIFAR-10 Batch 1:  Loss:     0.8950 Training Accuracy 0.725000 Validation Accuracy: 0.524200\n",
      "Epoch 21, CIFAR-10 Batch 1:  Loss:     0.8313 Training Accuracy 0.750000 Validation Accuracy: 0.524400\n",
      "Epoch 22, CIFAR-10 Batch 1:  Loss:     0.8036 Training Accuracy 0.700000 Validation Accuracy: 0.533200\n",
      "Epoch 23, CIFAR-10 Batch 1:  Loss:     0.7467 Training Accuracy 0.750000 Validation Accuracy: 0.534400\n",
      "Epoch 24, CIFAR-10 Batch 1:  Loss:     0.6679 Training Accuracy 0.725000 Validation Accuracy: 0.536600\n",
      "Epoch 25, CIFAR-10 Batch 1:  Loss:     0.6333 Training Accuracy 0.775000 Validation Accuracy: 0.532000\n"
     ]
    }
   ],
   "source": [
    "\"\"\"\n",
    "DON'T MODIFY ANYTHING IN THIS CELL\n",
    "\"\"\"\n",
    "print('Checking the Training on a Single Batch...')\n",
    "stats = []\n",
    "with tf.Session() as sess:\n",
    "    # Initializing the variables\n",
    "    sess.run(tf.global_variables_initializer())\n",
    "    # optimizer = tf.train.AdamOptimizer(lr, beta1, beta2, epsilon)\n",
    "    # Training cycle\n",
    "    for epoch in range(epochs):\n",
    "        batch_i = 1\n",
    "        for batch_features, batch_labels in helper.load_preprocess_training_batch(batch_i, batch_size):\n",
    "            train_neural_network(sess, optimizer, keep_probability, batch_features, batch_labels)\n",
    "        print('Epoch {:>2}, CIFAR-10 Batch {}:  '.format(epoch + 1, batch_i), end='')\n",
    "        stat_epoch = print_stats(sess, batch_features, batch_labels, cost, accuracy)\n",
    "        stats.append(stat_epoch)"
   ]
  },
  {
   "cell_type": "code",
   "execution_count": 51,
   "metadata": {},
   "outputs": [
    {
     "data": {
      "image/png": "[encoded data removed]",
      "text/plain": [
       "<matplotlib.figure.Figure at 0x7f73421b56a0>"
      ]
     },
     "metadata": {
      "image/png": {
       "height": 250,
       "width": 373
      }
     },
     "output_type": "display_data"
    }
   ],
   "source": [
    "%matplotlib inline\n",
    "import matplotlib.pyplot as plt\n",
    "train_accs = [stat[1] for stat in stats]\n",
    "val_accs = [stat[2] for stat in stats]\n",
    "x = range(1, len(train_accs) + 1)\n",
    "\n",
    "plt.plot(x, train_accs, label='training')\n",
    "plt.plot(x, val_accs, label='validation')\n",
    "plt.legend(loc='best')\n",
    "plt.show()"
   ]
  },
  {
   "cell_type": "markdown",
   "metadata": {},
   "source": [
    "### Fully Train the Model\n",
    "Now that you got a good accuracy with a single CIFAR-10 batch, try it with all five batches."
   ]
  },
  {
   "cell_type": "code",
   "execution_count": 66,
   "metadata": {
    "scrolled": false
   },
   "outputs": [
    {
     "name": "stdout",
     "output_type": "stream",
     "text": [
      "Training...\n",
      "Epoch  1, CIFAR-10 Batch 1:  Loss:     2.3014 Training Accuracy 0.200000 Validation Accuracy: 0.133800\n",
      "Epoch  1, CIFAR-10 Batch 2:  Loss:     2.0949 Training Accuracy 0.250000 Validation Accuracy: 0.262600\n",
      "Epoch  1, CIFAR-10 Batch 3:  Loss:     1.7121 Training Accuracy 0.325000 Validation Accuracy: 0.280800\n",
      "Epoch  1, CIFAR-10 Batch 4:  Loss:     1.6817 Training Accuracy 0.275000 Validation Accuracy: 0.325600\n",
      "Epoch  1, CIFAR-10 Batch 5:  Loss:     1.8902 Training Accuracy 0.275000 Validation Accuracy: 0.381600\n",
      "Epoch  2, CIFAR-10 Batch 1:  Loss:     1.7547 Training Accuracy 0.425000 Validation Accuracy: 0.409000\n",
      "Epoch  2, CIFAR-10 Batch 2:  Loss:     1.6433 Training Accuracy 0.450000 Validation Accuracy: 0.439800\n",
      "Epoch  2, CIFAR-10 Batch 3:  Loss:     1.2334 Training Accuracy 0.475000 Validation Accuracy: 0.443400\n",
      "Epoch  2, CIFAR-10 Batch 4:  Loss:     1.4164 Training Accuracy 0.475000 Validation Accuracy: 0.441800\n",
      "Epoch  2, CIFAR-10 Batch 5:  Loss:     1.5438 Training Accuracy 0.575000 Validation Accuracy: 0.476000\n",
      "Epoch  3, CIFAR-10 Batch 1:  Loss:     1.3838 Training Accuracy 0.525000 Validation Accuracy: 0.500200\n",
      "Epoch  3, CIFAR-10 Batch 2:  Loss:     1.3283 Training Accuracy 0.525000 Validation Accuracy: 0.517200\n",
      "Epoch  3, CIFAR-10 Batch 3:  Loss:     1.1312 Training Accuracy 0.525000 Validation Accuracy: 0.504800\n",
      "Epoch  3, CIFAR-10 Batch 4:  Loss:     1.2366 Training Accuracy 0.525000 Validation Accuracy: 0.503200\n",
      "Epoch  3, CIFAR-10 Batch 5:  Loss:     1.3221 Training Accuracy 0.600000 Validation Accuracy: 0.536800\n",
      "Epoch  4, CIFAR-10 Batch 1:  Loss:     1.2316 Training Accuracy 0.550000 Validation Accuracy: 0.545600\n",
      "Epoch  4, CIFAR-10 Batch 2:  Loss:     1.2146 Training Accuracy 0.600000 Validation Accuracy: 0.567400\n",
      "Epoch  4, CIFAR-10 Batch 3:  Loss:     0.9341 Training Accuracy 0.550000 Validation Accuracy: 0.562000\n",
      "Epoch  4, CIFAR-10 Batch 4:  Loss:     1.0533 Training Accuracy 0.600000 Validation Accuracy: 0.560000\n",
      "Epoch  4, CIFAR-10 Batch 5:  Loss:     1.2121 Training Accuracy 0.575000 Validation Accuracy: 0.582800\n",
      "Epoch  5, CIFAR-10 Batch 1:  Loss:     1.1193 Training Accuracy 0.600000 Validation Accuracy: 0.592000\n",
      "Epoch  5, CIFAR-10 Batch 2:  Loss:     1.0162 Training Accuracy 0.650000 Validation Accuracy: 0.598600\n",
      "Epoch  5, CIFAR-10 Batch 3:  Loss:     0.7989 Training Accuracy 0.700000 Validation Accuracy: 0.603400\n",
      "Epoch  5, CIFAR-10 Batch 4:  Loss:     0.9218 Training Accuracy 0.650000 Validation Accuracy: 0.594400\n",
      "Epoch  5, CIFAR-10 Batch 5:  Loss:     1.0829 Training Accuracy 0.675000 Validation Accuracy: 0.622800\n",
      "Epoch  6, CIFAR-10 Batch 1:  Loss:     0.9554 Training Accuracy 0.675000 Validation Accuracy: 0.615200\n",
      "Epoch  6, CIFAR-10 Batch 2:  Loss:     1.0438 Training Accuracy 0.625000 Validation Accuracy: 0.631800\n",
      "Epoch  6, CIFAR-10 Batch 3:  Loss:     0.6664 Training Accuracy 0.750000 Validation Accuracy: 0.616200\n",
      "Epoch  6, CIFAR-10 Batch 4:  Loss:     0.7678 Training Accuracy 0.725000 Validation Accuracy: 0.615400\n",
      "Epoch  6, CIFAR-10 Batch 5:  Loss:     0.9152 Training Accuracy 0.750000 Validation Accuracy: 0.638600\n",
      "Epoch  7, CIFAR-10 Batch 1:  Loss:     0.8797 Training Accuracy 0.700000 Validation Accuracy: 0.645400\n",
      "Epoch  7, CIFAR-10 Batch 2:  Loss:     0.9470 Training Accuracy 0.650000 Validation Accuracy: 0.652000\n",
      "Epoch  7, CIFAR-10 Batch 3:  Loss:     0.5693 Training Accuracy 0.825000 Validation Accuracy: 0.654200\n",
      "Epoch  7, CIFAR-10 Batch 4:  Loss:     0.6251 Training Accuracy 0.800000 Validation Accuracy: 0.636600\n",
      "Epoch  7, CIFAR-10 Batch 5:  Loss:     0.8162 Training Accuracy 0.750000 Validation Accuracy: 0.667000\n",
      "Epoch  8, CIFAR-10 Batch 1:  Loss:     0.7747 Training Accuracy 0.725000 Validation Accuracy: 0.661800\n",
      "Epoch  8, CIFAR-10 Batch 2:  Loss:     0.8722 Training Accuracy 0.650000 Validation Accuracy: 0.663200\n",
      "Epoch  8, CIFAR-10 Batch 3:  Loss:     0.4930 Training Accuracy 0.825000 Validation Accuracy: 0.675200\n",
      "Epoch  8, CIFAR-10 Batch 4:  Loss:     0.5536 Training Accuracy 0.825000 Validation Accuracy: 0.655000\n",
      "Epoch  8, CIFAR-10 Batch 5:  Loss:     0.7217 Training Accuracy 0.800000 Validation Accuracy: 0.677200\n",
      "Epoch  9, CIFAR-10 Batch 1:  Loss:     0.6052 Training Accuracy 0.800000 Validation Accuracy: 0.673800\n",
      "Epoch  9, CIFAR-10 Batch 2:  Loss:     0.6580 Training Accuracy 0.775000 Validation Accuracy: 0.668400\n",
      "Epoch  9, CIFAR-10 Batch 3:  Loss:     0.4578 Training Accuracy 0.875000 Validation Accuracy: 0.688600\n",
      "Epoch  9, CIFAR-10 Batch 4:  Loss:     0.4831 Training Accuracy 0.900000 Validation Accuracy: 0.672200\n",
      "Epoch  9, CIFAR-10 Batch 5:  Loss:     0.6182 Training Accuracy 0.825000 Validation Accuracy: 0.674400\n",
      "Epoch 10, CIFAR-10 Batch 1:  Loss:     0.5463 Training Accuracy 0.825000 Validation Accuracy: 0.686200\n",
      "Epoch 10, CIFAR-10 Batch 2:  Loss:     0.5988 Training Accuracy 0.750000 Validation Accuracy: 0.692000\n",
      "Epoch 10, CIFAR-10 Batch 3:  Loss:     0.3265 Training Accuracy 0.950000 Validation Accuracy: 0.713000\n",
      "Epoch 10, CIFAR-10 Batch 4:  Loss:     0.5205 Training Accuracy 0.875000 Validation Accuracy: 0.673600\n",
      "Epoch 10, CIFAR-10 Batch 5:  Loss:     0.5123 Training Accuracy 0.850000 Validation Accuracy: 0.698400\n",
      "Epoch 11, CIFAR-10 Batch 1:  Loss:     0.4207 Training Accuracy 0.850000 Validation Accuracy: 0.696600\n",
      "Epoch 11, CIFAR-10 Batch 2:  Loss:     0.4919 Training Accuracy 0.850000 Validation Accuracy: 0.684600\n",
      "Epoch 11, CIFAR-10 Batch 3:  Loss:     0.3184 Training Accuracy 0.950000 Validation Accuracy: 0.711600\n",
      "Epoch 11, CIFAR-10 Batch 4:  Loss:     0.4289 Training Accuracy 0.875000 Validation Accuracy: 0.670800\n",
      "Epoch 11, CIFAR-10 Batch 5:  Loss:     0.4663 Training Accuracy 0.850000 Validation Accuracy: 0.683000\n",
      "Epoch 12, CIFAR-10 Batch 1:  Loss:     0.3658 Training Accuracy 0.900000 Validation Accuracy: 0.703200\n",
      "Epoch 12, CIFAR-10 Batch 2:  Loss:     0.3635 Training Accuracy 0.950000 Validation Accuracy: 0.708200\n",
      "Epoch 12, CIFAR-10 Batch 3:  Loss:     0.2481 Training Accuracy 0.950000 Validation Accuracy: 0.699400\n",
      "Epoch 12, CIFAR-10 Batch 4:  Loss:     0.3577 Training Accuracy 0.950000 Validation Accuracy: 0.692600\n",
      "Epoch 12, CIFAR-10 Batch 5:  Loss:     0.3338 Training Accuracy 0.900000 Validation Accuracy: 0.711400\n",
      "Epoch 13, CIFAR-10 Batch 1:  Loss:     0.2780 Training Accuracy 0.900000 Validation Accuracy: 0.713200\n",
      "Epoch 13, CIFAR-10 Batch 2:  Loss:     0.3471 Training Accuracy 0.900000 Validation Accuracy: 0.704400\n",
      "Epoch 13, CIFAR-10 Batch 3:  Loss:     0.2627 Training Accuracy 0.950000 Validation Accuracy: 0.715000\n",
      "Epoch 13, CIFAR-10 Batch 4:  Loss:     0.2623 Training Accuracy 0.950000 Validation Accuracy: 0.715400\n",
      "Epoch 13, CIFAR-10 Batch 5:  Loss:     0.2669 Training Accuracy 0.925000 Validation Accuracy: 0.720600\n",
      "Epoch 14, CIFAR-10 Batch 1:  Loss:     0.2342 Training Accuracy 0.975000 Validation Accuracy: 0.718400\n",
      "Epoch 14, CIFAR-10 Batch 2:  Loss:     0.2561 Training Accuracy 0.950000 Validation Accuracy: 0.720600\n",
      "Epoch 14, CIFAR-10 Batch 3:  Loss:     0.2037 Training Accuracy 0.975000 Validation Accuracy: 0.718800\n",
      "Epoch 14, CIFAR-10 Batch 4:  Loss:     0.2641 Training Accuracy 0.950000 Validation Accuracy: 0.720800\n",
      "Epoch 14, CIFAR-10 Batch 5:  Loss:     0.2683 Training Accuracy 0.925000 Validation Accuracy: 0.700400\n",
      "Epoch 15, CIFAR-10 Batch 1:  Loss:     0.1804 Training Accuracy 1.000000 Validation Accuracy: 0.732400\n",
      "Epoch 15, CIFAR-10 Batch 2:  Loss:     0.2298 Training Accuracy 1.000000 Validation Accuracy: 0.711600\n",
      "Epoch 15, CIFAR-10 Batch 3:  Loss:     0.2256 Training Accuracy 0.950000 Validation Accuracy: 0.689000\n",
      "Epoch 15, CIFAR-10 Batch 4:  Loss:     0.2074 Training Accuracy 0.975000 Validation Accuracy: 0.727200\n",
      "Epoch 15, CIFAR-10 Batch 5:  Loss:     0.2334 Training Accuracy 0.950000 Validation Accuracy: 0.718800\n",
      "Epoch 16, CIFAR-10 Batch 1:  Loss:     0.1587 Training Accuracy 0.975000 Validation Accuracy: 0.730800\n",
      "Epoch 16, CIFAR-10 Batch 2:  Loss:     0.1784 Training Accuracy 0.975000 Validation Accuracy: 0.725200\n",
      "Epoch 16, CIFAR-10 Batch 3:  Loss:     0.1954 Training Accuracy 0.975000 Validation Accuracy: 0.722000\n",
      "Epoch 16, CIFAR-10 Batch 4:  Loss:     0.2558 Training Accuracy 0.975000 Validation Accuracy: 0.719800\n",
      "Epoch 16, CIFAR-10 Batch 5:  Loss:     0.2081 Training Accuracy 0.975000 Validation Accuracy: 0.721200\n"
     ]
    },
    {
     "name": "stdout",
     "output_type": "stream",
     "text": [
      "Epoch 17, CIFAR-10 Batch 1:  Loss:     0.1450 Training Accuracy 1.000000 Validation Accuracy: 0.718000\n",
      "Epoch 17, CIFAR-10 Batch 2:  Loss:     0.1538 Training Accuracy 1.000000 Validation Accuracy: 0.728000\n",
      "Epoch 17, CIFAR-10 Batch 3:  Loss:     0.1620 Training Accuracy 0.975000 Validation Accuracy: 0.725600\n",
      "Epoch 17, CIFAR-10 Batch 4:  Loss:     0.1695 Training Accuracy 0.975000 Validation Accuracy: 0.726800\n",
      "Epoch 17, CIFAR-10 Batch 5:  Loss:     0.1525 Training Accuracy 0.975000 Validation Accuracy: 0.737600\n",
      "Epoch 18, CIFAR-10 Batch 1:  Loss:     0.1583 Training Accuracy 1.000000 Validation Accuracy: 0.736800\n",
      "Epoch 18, CIFAR-10 Batch 2:  Loss:     0.1212 Training Accuracy 1.000000 Validation Accuracy: 0.726800\n",
      "Epoch 18, CIFAR-10 Batch 3:  Loss:     0.1454 Training Accuracy 0.975000 Validation Accuracy: 0.730200\n",
      "Epoch 18, CIFAR-10 Batch 4:  Loss:     0.1508 Training Accuracy 1.000000 Validation Accuracy: 0.721600\n",
      "Epoch 18, CIFAR-10 Batch 5:  Loss:     0.1338 Training Accuracy 0.975000 Validation Accuracy: 0.732000\n",
      "Epoch 19, CIFAR-10 Batch 1:  Loss:     0.1206 Training Accuracy 1.000000 Validation Accuracy: 0.736000\n",
      "Epoch 19, CIFAR-10 Batch 2:  Loss:     0.0899 Training Accuracy 1.000000 Validation Accuracy: 0.727600\n",
      "Epoch 19, CIFAR-10 Batch 3:  Loss:     0.1235 Training Accuracy 0.975000 Validation Accuracy: 0.728200\n",
      "Epoch 19, CIFAR-10 Batch 4:  Loss:     0.1447 Training Accuracy 1.000000 Validation Accuracy: 0.740000\n",
      "Epoch 19, CIFAR-10 Batch 5:  Loss:     0.1050 Training Accuracy 1.000000 Validation Accuracy: 0.733200\n",
      "Epoch 20, CIFAR-10 Batch 1:  Loss:     0.0933 Training Accuracy 0.975000 Validation Accuracy: 0.735200\n",
      "Epoch 20, CIFAR-10 Batch 2:  Loss:     0.1006 Training Accuracy 1.000000 Validation Accuracy: 0.732200\n",
      "Epoch 20, CIFAR-10 Batch 3:  Loss:     0.1208 Training Accuracy 0.975000 Validation Accuracy: 0.727400\n",
      "Epoch 20, CIFAR-10 Batch 4:  Loss:     0.1369 Training Accuracy 0.975000 Validation Accuracy: 0.729400\n",
      "Epoch 20, CIFAR-10 Batch 5:  Loss:     0.1056 Training Accuracy 1.000000 Validation Accuracy: 0.740600\n",
      "Epoch 21, CIFAR-10 Batch 1:  Loss:     0.0685 Training Accuracy 1.000000 Validation Accuracy: 0.738000\n",
      "Epoch 21, CIFAR-10 Batch 2:  Loss:     0.0689 Training Accuracy 1.000000 Validation Accuracy: 0.731400\n",
      "Epoch 21, CIFAR-10 Batch 3:  Loss:     0.1440 Training Accuracy 0.975000 Validation Accuracy: 0.710400\n",
      "Epoch 21, CIFAR-10 Batch 4:  Loss:     0.1235 Training Accuracy 0.950000 Validation Accuracy: 0.730800\n",
      "Epoch 21, CIFAR-10 Batch 5:  Loss:     0.0973 Training Accuracy 1.000000 Validation Accuracy: 0.733600\n",
      "Epoch 22, CIFAR-10 Batch 1:  Loss:     0.0722 Training Accuracy 1.000000 Validation Accuracy: 0.741200\n",
      "Epoch 22, CIFAR-10 Batch 2:  Loss:     0.0594 Training Accuracy 1.000000 Validation Accuracy: 0.740000\n",
      "Epoch 22, CIFAR-10 Batch 3:  Loss:     0.0826 Training Accuracy 1.000000 Validation Accuracy: 0.719800\n",
      "Epoch 22, CIFAR-10 Batch 4:  Loss:     0.1326 Training Accuracy 0.975000 Validation Accuracy: 0.723600\n",
      "Epoch 22, CIFAR-10 Batch 5:  Loss:     0.0747 Training Accuracy 1.000000 Validation Accuracy: 0.731800\n",
      "Epoch 23, CIFAR-10 Batch 1:  Loss:     0.0674 Training Accuracy 1.000000 Validation Accuracy: 0.728600\n",
      "Epoch 23, CIFAR-10 Batch 2:  Loss:     0.0704 Training Accuracy 1.000000 Validation Accuracy: 0.732000\n",
      "Epoch 23, CIFAR-10 Batch 3:  Loss:     0.0760 Training Accuracy 1.000000 Validation Accuracy: 0.716800\n",
      "Epoch 23, CIFAR-10 Batch 4:  Loss:     0.1022 Training Accuracy 0.975000 Validation Accuracy: 0.729200\n",
      "Epoch 23, CIFAR-10 Batch 5:  Loss:     0.0762 Training Accuracy 1.000000 Validation Accuracy: 0.744400\n",
      "Epoch 24, CIFAR-10 Batch 1:  Loss:     0.0590 Training Accuracy 1.000000 Validation Accuracy: 0.738600\n",
      "Epoch 24, CIFAR-10 Batch 2:  Loss:     0.0514 Training Accuracy 1.000000 Validation Accuracy: 0.742400\n",
      "Epoch 24, CIFAR-10 Batch 3:  Loss:     0.0973 Training Accuracy 1.000000 Validation Accuracy: 0.725400\n",
      "Epoch 24, CIFAR-10 Batch 4:  Loss:     0.1124 Training Accuracy 0.975000 Validation Accuracy: 0.722800\n",
      "Epoch 24, CIFAR-10 Batch 5:  Loss:     0.0596 Training Accuracy 1.000000 Validation Accuracy: 0.738600\n",
      "Epoch 25, CIFAR-10 Batch 1:  Loss:     0.0494 Training Accuracy 1.000000 Validation Accuracy: 0.728800\n",
      "Epoch 25, CIFAR-10 Batch 2:  Loss:     0.0454 Training Accuracy 1.000000 Validation Accuracy: 0.741000\n",
      "Epoch 25, CIFAR-10 Batch 3:  Loss:     0.0555 Training Accuracy 1.000000 Validation Accuracy: 0.728400\n",
      "Epoch 25, CIFAR-10 Batch 4:  Loss:     0.0769 Training Accuracy 0.975000 Validation Accuracy: 0.726200\n",
      "Epoch 25, CIFAR-10 Batch 5:  Loss:     0.0604 Training Accuracy 1.000000 Validation Accuracy: 0.740400\n"
     ]
    }
   ],
   "source": [
    "\"\"\"\n",
    "DON'T MODIFY ANYTHING IN THIS CELL\n",
    "\"\"\"\n",
    "save_model_path = './image_classification'\n",
    "stats = []\n",
    "print('Training...')\n",
    "with tf.Session() as sess:\n",
    "    # Initializing the variables\n",
    "    sess.run(tf.global_variables_initializer())\n",
    "    \n",
    "    # Training cycle\n",
    "    for epoch in range(epochs):\n",
    "        # Loop over all batches\n",
    "        n_batches = 5\n",
    "        for batch_i in range(1, n_batches + 1):\n",
    "            for batch_features, batch_labels in helper.load_preprocess_training_batch(batch_i, batch_size):\n",
    "                train_neural_network(sess, optimizer, keep_probability, batch_features, batch_labels)\n",
    "            print('Epoch {:>2}, CIFAR-10 Batch {}:  '.format(epoch + 1, batch_i), end='')\n",
    "            stat = print_stats(sess, batch_features, batch_labels, cost, accuracy)\n",
    "            stats.append(stat)\n",
    "    # Save Model\n",
    "    saver = tf.train.Saver()\n",
    "    save_path = saver.save(sess, save_model_path)"
   ]
  },
  {
   "cell_type": "markdown",
   "metadata": {},
   "source": [
    "### Note that after 15 epoches, training accuracy saturates"
   ]
  },
  {
   "cell_type": "code",
   "execution_count": 70,
   "metadata": {},
   "outputs": [
    {
     "data": {
      "image/png": "[encoded data removed]",
      "text/plain": [
       "<matplotlib.figure.Figure at 0x7f73327fba90>"
      ]
     },
     "metadata": {
      "image/png": {
       "height": 250,
       "width": 373
      }
     },
     "output_type": "display_data"
    }
   ],
   "source": [
    "train_accs = [stat[1] for stat in stats]\n",
    "val_accs = [stat[2] for stat in stats]\n",
    "x = range(1, len(train_accs) + 1)\n",
    "x = [i/5 for i in x]\n",
    "\n",
    "plt.plot(x, train_accs, label='training')\n",
    "plt.plot(x, val_accs, label='validation')\n",
    "plt.legend(loc='best')\n",
    "plt.show()"
   ]
  },
  {
   "cell_type": "markdown",
   "metadata": {},
   "source": [
    "### Set `epoch` = 12"
   ]
  },
  {
   "cell_type": "code",
   "execution_count": 79,
   "metadata": {
    "scrolled": false
   },
   "outputs": [
    {
     "name": "stdout",
     "output_type": "stream",
     "text": [
      "Training...\n",
      "Epoch  1, CIFAR-10 Batch 1:  Loss:     2.2237 Training Accuracy 0.200000 Validation Accuracy: 0.175000\n",
      "Epoch  1, CIFAR-10 Batch 2:  Loss:     2.0718 Training Accuracy 0.350000 Validation Accuracy: 0.248200\n",
      "Epoch  1, CIFAR-10 Batch 3:  Loss:     1.7789 Training Accuracy 0.175000 Validation Accuracy: 0.241200\n",
      "Epoch  1, CIFAR-10 Batch 4:  Loss:     1.7439 Training Accuracy 0.275000 Validation Accuracy: 0.319000\n",
      "Epoch  1, CIFAR-10 Batch 5:  Loss:     1.8362 Training Accuracy 0.300000 Validation Accuracy: 0.352400\n",
      "Epoch  2, CIFAR-10 Batch 1:  Loss:     1.9014 Training Accuracy 0.400000 Validation Accuracy: 0.354200\n",
      "Epoch  2, CIFAR-10 Batch 2:  Loss:     1.6061 Training Accuracy 0.450000 Validation Accuracy: 0.388600\n",
      "Epoch  2, CIFAR-10 Batch 3:  Loss:     1.3082 Training Accuracy 0.525000 Validation Accuracy: 0.422600\n",
      "Epoch  2, CIFAR-10 Batch 4:  Loss:     1.5772 Training Accuracy 0.300000 Validation Accuracy: 0.437400\n",
      "Epoch  2, CIFAR-10 Batch 5:  Loss:     1.6096 Training Accuracy 0.375000 Validation Accuracy: 0.460600\n",
      "Epoch  3, CIFAR-10 Batch 1:  Loss:     1.6270 Training Accuracy 0.500000 Validation Accuracy: 0.476800\n",
      "Epoch  3, CIFAR-10 Batch 2:  Loss:     1.3474 Training Accuracy 0.525000 Validation Accuracy: 0.478000\n",
      "Epoch  3, CIFAR-10 Batch 3:  Loss:     1.1323 Training Accuracy 0.525000 Validation Accuracy: 0.488600\n",
      "Epoch  3, CIFAR-10 Batch 4:  Loss:     1.4507 Training Accuracy 0.425000 Validation Accuracy: 0.473000\n",
      "Epoch  3, CIFAR-10 Batch 5:  Loss:     1.3982 Training Accuracy 0.550000 Validation Accuracy: 0.521600\n",
      "Epoch  4, CIFAR-10 Batch 1:  Loss:     1.4447 Training Accuracy 0.525000 Validation Accuracy: 0.540400\n",
      "Epoch  4, CIFAR-10 Batch 2:  Loss:     1.1625 Training Accuracy 0.575000 Validation Accuracy: 0.524800\n",
      "Epoch  4, CIFAR-10 Batch 3:  Loss:     0.9608 Training Accuracy 0.600000 Validation Accuracy: 0.544200\n",
      "Epoch  4, CIFAR-10 Batch 4:  Loss:     1.1898 Training Accuracy 0.525000 Validation Accuracy: 0.498000\n",
      "Epoch  4, CIFAR-10 Batch 5:  Loss:     1.1766 Training Accuracy 0.650000 Validation Accuracy: 0.561800\n",
      "Epoch  5, CIFAR-10 Batch 1:  Loss:     1.2402 Training Accuracy 0.600000 Validation Accuracy: 0.559400\n",
      "Epoch  5, CIFAR-10 Batch 2:  Loss:     1.1113 Training Accuracy 0.550000 Validation Accuracy: 0.573600\n",
      "Epoch  5, CIFAR-10 Batch 3:  Loss:     0.8353 Training Accuracy 0.725000 Validation Accuracy: 0.586800\n",
      "Epoch  5, CIFAR-10 Batch 4:  Loss:     0.9505 Training Accuracy 0.675000 Validation Accuracy: 0.550800\n",
      "Epoch  5, CIFAR-10 Batch 5:  Loss:     1.1046 Training Accuracy 0.675000 Validation Accuracy: 0.588800\n",
      "Epoch  6, CIFAR-10 Batch 1:  Loss:     1.1532 Training Accuracy 0.650000 Validation Accuracy: 0.572600\n",
      "Epoch  6, CIFAR-10 Batch 2:  Loss:     0.9098 Training Accuracy 0.675000 Validation Accuracy: 0.610400\n",
      "Epoch  6, CIFAR-10 Batch 3:  Loss:     0.7028 Training Accuracy 0.775000 Validation Accuracy: 0.607200\n",
      "Epoch  6, CIFAR-10 Batch 4:  Loss:     0.8461 Training Accuracy 0.800000 Validation Accuracy: 0.590000\n",
      "Epoch  6, CIFAR-10 Batch 5:  Loss:     1.0399 Training Accuracy 0.600000 Validation Accuracy: 0.614400\n",
      "Epoch  7, CIFAR-10 Batch 1:  Loss:     0.9299 Training Accuracy 0.700000 Validation Accuracy: 0.614000\n",
      "Epoch  7, CIFAR-10 Batch 2:  Loss:     0.8528 Training Accuracy 0.650000 Validation Accuracy: 0.620400\n",
      "Epoch  7, CIFAR-10 Batch 3:  Loss:     0.6599 Training Accuracy 0.825000 Validation Accuracy: 0.628800\n",
      "Epoch  7, CIFAR-10 Batch 4:  Loss:     0.8063 Training Accuracy 0.750000 Validation Accuracy: 0.617000\n",
      "Epoch  7, CIFAR-10 Batch 5:  Loss:     0.8209 Training Accuracy 0.800000 Validation Accuracy: 0.631400\n",
      "Epoch  8, CIFAR-10 Batch 1:  Loss:     0.8530 Training Accuracy 0.750000 Validation Accuracy: 0.629800\n",
      "Epoch  8, CIFAR-10 Batch 2:  Loss:     0.8102 Training Accuracy 0.675000 Validation Accuracy: 0.650600\n",
      "Epoch  8, CIFAR-10 Batch 3:  Loss:     0.5867 Training Accuracy 0.750000 Validation Accuracy: 0.642400\n",
      "Epoch  8, CIFAR-10 Batch 4:  Loss:     0.8110 Training Accuracy 0.725000 Validation Accuracy: 0.607400\n",
      "Epoch  8, CIFAR-10 Batch 5:  Loss:     0.7233 Training Accuracy 0.725000 Validation Accuracy: 0.647200\n",
      "Epoch  9, CIFAR-10 Batch 1:  Loss:     0.7340 Training Accuracy 0.800000 Validation Accuracy: 0.646200\n",
      "Epoch  9, CIFAR-10 Batch 2:  Loss:     0.7545 Training Accuracy 0.700000 Validation Accuracy: 0.651400\n",
      "Epoch  9, CIFAR-10 Batch 3:  Loss:     0.4971 Training Accuracy 0.800000 Validation Accuracy: 0.664800\n",
      "Epoch  9, CIFAR-10 Batch 4:  Loss:     0.7200 Training Accuracy 0.725000 Validation Accuracy: 0.655200\n",
      "Epoch  9, CIFAR-10 Batch 5:  Loss:     0.6435 Training Accuracy 0.850000 Validation Accuracy: 0.637400\n",
      "Epoch 10, CIFAR-10 Batch 1:  Loss:     0.7497 Training Accuracy 0.725000 Validation Accuracy: 0.650400\n",
      "Epoch 10, CIFAR-10 Batch 2:  Loss:     0.6773 Training Accuracy 0.775000 Validation Accuracy: 0.668400\n",
      "Epoch 10, CIFAR-10 Batch 3:  Loss:     0.4771 Training Accuracy 0.875000 Validation Accuracy: 0.664400\n",
      "Epoch 10, CIFAR-10 Batch 4:  Loss:     0.6523 Training Accuracy 0.800000 Validation Accuracy: 0.652200\n",
      "Epoch 10, CIFAR-10 Batch 5:  Loss:     0.5369 Training Accuracy 0.900000 Validation Accuracy: 0.660400\n",
      "Epoch 11, CIFAR-10 Batch 1:  Loss:     0.5677 Training Accuracy 0.800000 Validation Accuracy: 0.668600\n",
      "Epoch 11, CIFAR-10 Batch 2:  Loss:     0.5903 Training Accuracy 0.775000 Validation Accuracy: 0.664200\n",
      "Epoch 11, CIFAR-10 Batch 3:  Loss:     0.4136 Training Accuracy 0.850000 Validation Accuracy: 0.676600\n",
      "Epoch 11, CIFAR-10 Batch 4:  Loss:     0.6422 Training Accuracy 0.750000 Validation Accuracy: 0.650200\n",
      "Epoch 11, CIFAR-10 Batch 5:  Loss:     0.4546 Training Accuracy 0.900000 Validation Accuracy: 0.681400\n",
      "Epoch 12, CIFAR-10 Batch 1:  Loss:     0.5518 Training Accuracy 0.800000 Validation Accuracy: 0.681600\n",
      "Epoch 12, CIFAR-10 Batch 2:  Loss:     0.4658 Training Accuracy 0.900000 Validation Accuracy: 0.683800\n",
      "Epoch 12, CIFAR-10 Batch 3:  Loss:     0.3762 Training Accuracy 0.900000 Validation Accuracy: 0.670400\n",
      "Epoch 12, CIFAR-10 Batch 4:  Loss:     0.5031 Training Accuracy 0.850000 Validation Accuracy: 0.668000\n",
      "Epoch 12, CIFAR-10 Batch 5:  Loss:     0.4090 Training Accuracy 0.900000 Validation Accuracy: 0.683600\n"
     ]
    }
   ],
   "source": [
    "epochs = 12\n",
    "batch_size = 128\n",
    "keep_probability = 0.5\n",
    "\n",
    "\"\"\"\n",
    "DON'T MODIFY ANYTHING IN THIS CELL\n",
    "\"\"\"\n",
    "save_model_path = './image_classification'\n",
    "stats = []\n",
    "print('Training...')\n",
    "with tf.Session() as sess:\n",
    "    # Initializing the variables\n",
    "    sess.run(tf.global_variables_initializer())\n",
    "    \n",
    "    # Training cycle\n",
    "    for epoch in range(epochs):\n",
    "        # Loop over all batches\n",
    "        n_batches = 5\n",
    "        for batch_i in range(1, n_batches + 1):\n",
    "            for batch_features, batch_labels in helper.load_preprocess_training_batch(batch_i, batch_size):\n",
    "                train_neural_network(sess, optimizer, keep_probability, batch_features, batch_labels)\n",
    "            print('Epoch {:>2}, CIFAR-10 Batch {}:  '.format(epoch + 1, batch_i), end='')\n",
    "            stat = print_stats(sess, batch_features, batch_labels, cost, accuracy)\n",
    "            stats.append(stat)\n",
    "    # Save Model\n",
    "    saver = tf.train.Saver()\n",
    "    save_path = saver.save(sess, save_model_path)"
   ]
  },
  {
   "cell_type": "markdown",
   "metadata": {},
   "source": [
    "# Checkpoint\n",
    "The model has been saved to disk.\n",
    "## Test Model\n",
    "Test your model against the test dataset.  This will be your final accuracy. You should have an accuracy greater than 50%. If you don't, keep tweaking the model architecture and parameters."
   ]
  },
  {
   "cell_type": "code",
   "execution_count": 80,
   "metadata": {},
   "outputs": [
    {
     "name": "stdout",
     "output_type": "stream",
     "text": [
      "INFO:tensorflow:Restoring parameters from ./image_classification\n",
      "Testing Accuracy: 0.6772151898734177\n",
      "\n"
     ]
    },
    {
     "data": {
      "image/png": "[encoded data removed]",
      "text/plain": [
       "<matplotlib.figure.Figure at 0x7f73319249b0>"
      ]
     },
     "metadata": {
      "image/png": {
       "height": 319,
       "width": 355
      }
     },
     "output_type": "display_data"
    }
   ],
   "source": [
    "\"\"\"\n",
    "DON'T MODIFY ANYTHING IN THIS CELL\n",
    "\"\"\"\n",
    "%matplotlib inline\n",
    "%config InlineBackend.figure_format = 'retina'\n",
    "\n",
    "import tensorflow as tf\n",
    "import pickle\n",
    "import helper\n",
    "import random\n",
    "\n",
    "# Set batch size if not already set\n",
    "try:\n",
    "    if batch_size:\n",
    "        pass\n",
    "except NameError:\n",
    "    batch_size = 64\n",
    "\n",
    "save_model_path = './image_classification'\n",
    "n_samples = 4\n",
    "top_n_predictions = 3\n",
    "\n",
    "def test_model():\n",
    "    \"\"\"\n",
    "    Test the saved model against the test dataset\n",
    "    \"\"\"\n",
    "\n",
    "    test_features, test_labels = pickle.load(open('preprocess_test.p', mode='rb'))\n",
    "    loaded_graph = tf.Graph()\n",
    "\n",
    "    with tf.Session(graph=loaded_graph) as sess:\n",
    "        # Load model\n",
    "        loader = tf.train.import_meta_graph(save_model_path + '.meta')\n",
    "        loader.restore(sess, save_model_path)\n",
    "\n",
    "        # Get Tensors from loaded model\n",
    "        loaded_x = loaded_graph.get_tensor_by_name('x:0')\n",
    "        loaded_y = loaded_graph.get_tensor_by_name('y:0')\n",
    "        loaded_keep_prob = loaded_graph.get_tensor_by_name('keep_prob:0')\n",
    "        loaded_logits = loaded_graph.get_tensor_by_name('logits:0')\n",
    "        loaded_acc = loaded_graph.get_tensor_by_name('accuracy:0')\n",
    "        \n",
    "        # Get accuracy in batches for memory limitations\n",
    "        test_batch_acc_total = 0\n",
    "        test_batch_count = 0\n",
    "        \n",
    "        for test_feature_batch, test_label_batch in helper.batch_features_labels(test_features, test_labels, batch_size):\n",
    "            test_batch_acc_total += sess.run(\n",
    "                loaded_acc,\n",
    "                feed_dict={loaded_x: test_feature_batch, loaded_y: test_label_batch, loaded_keep_prob: 1.0})\n",
    "            test_batch_count += 1\n",
    "\n",
    "        print('Testing Accuracy: {}\\n'.format(test_batch_acc_total/test_batch_count))\n",
    "\n",
    "        # Print Random Samples\n",
    "        random_test_features, random_test_labels = tuple(zip(*random.sample(list(zip(test_features, test_labels)), n_samples)))\n",
    "        random_test_predictions = sess.run(\n",
    "            tf.nn.top_k(tf.nn.softmax(loaded_logits), top_n_predictions),\n",
    "            feed_dict={loaded_x: random_test_features, loaded_y: random_test_labels, loaded_keep_prob: 1.0})\n",
    "        helper.display_image_predictions(random_test_features, random_test_labels, random_test_predictions)\n",
    "\n",
    "\n",
    "test_model()"
   ]
  },
  {
   "cell_type": "markdown",
   "metadata": {},
   "source": [
    "## Why 50-80% Accuracy?\n",
    "You might be wondering why you can't get an accuracy any higher. First things first, 50% isn't bad for a simple CNN.  Pure guessing would get you 10% accuracy. However, you might notice people are getting scores [well above 80%](http://rodrigob.github.io/are_we_there_yet/build/classification_datasets_results.html#43494641522d3130).  That's because we haven't taught you all there is to know about neural networks. We still need to cover a few more techniques.\n",
    "## Submitting This Project\n",
    "When submitting this project, make sure to run all the cells before saving the notebook.  Save the notebook file as \"dlnd_image_classification.ipynb\" and save it as a HTML file under \"File\" -> \"Download as\".  Include the \"helper.py\" and \"problem_unittests.py\" files in your submission."
   ]
  },
  {
   "cell_type": "code",
   "execution_count": null,
   "metadata": {
    "collapsed": true
   },
   "outputs": [],
   "source": []
  }
 ],
 "metadata": {
  "kernelspec": {
   "display_name": "Python 3",
   "language": "python",
   "name": "python3"
  },
  "language_info": {
   "codemirror_mode": {
    "name": "ipython",
    "version": 3
   },
   "file_extension": ".py",
   "mimetype": "text/x-python",
   "name": "python",
   "nbconvert_exporter": "python",
   "pygments_lexer": "ipython3",
   "version": "3.5.3"
  }
 },
 "nbformat": 4,
 "nbformat_minor": 1
}
